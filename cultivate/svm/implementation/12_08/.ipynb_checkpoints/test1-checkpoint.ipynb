{
 "cells": [
  {
   "cell_type": "code",
   "execution_count": 6,
   "metadata": {
    "collapsed": true
   },
   "outputs": [],
   "source": [
    "%matplotlib inline\n",
    "import numpy as np\n",
    "import matplotlib.pyplot as plt\n",
    "from chainer import cuda, Variable, FunctionSet, optimizers\n",
    "import chainer.functions as F\n",
    "import sys\n",
    "import csv\n",
    "from pprint import pprint \n",
    "\n",
    "plt.style.use('ggplot')"
   ]
  },
  {
   "cell_type": "code",
   "execution_count": 7,
   "metadata": {
    "collapsed": false
   },
   "outputs": [],
   "source": [
    "# 確率的勾配降下法におけるミニバッチ数\n",
    "batchsize = 25\n",
    "\n",
    "# 学習の繰り返し回数\n",
    "n_epoch = 20\n",
    "\n",
    "# 中間層の数\n",
    "n_units = 20\n",
    "\n",
    "\n",
    "#=================================================\n",
    "# csvファイルからデータを取り出し、listに格納\n",
    "def set_data():\n",
    "\n",
    "        filename = \"../../../data/secondary_selection/input_data2\"\n",
    "        \n",
    "        f = open('%s.csv' % filename, 'rU')\n",
    "        data = csv.reader(f)\n",
    "\n",
    "        data_set = []\n",
    "        target_set = []\n",
    "        for line in data:\n",
    "                data_set.append(line[1:16])\n",
    "                target_set.append(line[16])\n",
    "        f.close()\n",
    "        np_dataSet = np.array(data_set, dtype=np.float32)\n",
    "        np_targetSet = np.array(target_set, dtype=np.int32)\n",
    "        return np_dataSet, np_targetSet\n",
    "\n",
    "#=================================================\n",
    "\n",
    "data, target = set_data()\n",
    "\n",
    "# <!--- start_debug\n",
    "#print data.shape\n",
    "#print target.shape\n",
    "#       end_debug ----> \n",
    "\n",
    "\n",
    "# 学習用データをN個、検証用データを残りの個数と設定\n",
    "# Nの値は暫定的なもの\n",
    "N = 700\n",
    "x_train, x_test = np.split( data, [N])  \n",
    "y_train, y_test = np.split( target, [N]) \n",
    "N_test = y_test.size\n",
    "#print data\n",
    "#print target\n",
    "\n"
   ]
  },
  {
   "cell_type": "code",
   "execution_count": 8,
   "metadata": {
    "collapsed": true
   },
   "outputs": [],
   "source": [
    "# 多層パーセプトロンモデルの設定\n",
    "# 入力 15次元、出力 2次元\n",
    "model = FunctionSet(l1=F.Linear(15, n_units),\n",
    "                    l2=F.Linear(n_units, n_units),\n",
    "                    l3=F.Linear(n_units, n_units),\n",
    "                    l4=F.Linear(n_units, 2))\n",
    "\n",
    "# Neural net architecture\n",
    "# ニューラルネットの構造\n",
    "def forward(x_data, y_data, train=True ):\n",
    "        x, t = Variable(x_data), Variable(y_data)\n",
    "        h1 = F.dropout(F.relu(model.l1(x)), ratio=.0, train=train)\n",
    "        h2 = F.dropout(F.relu(model.l2(h1)), ratio=.0, train=train)\n",
    "        h3 = F.dropout(F.relu(model.l3(h2)), ratio=.0, train=train)\n",
    "        y = model.l4(h3)\n",
    "        # 0/1の2クラス分類なので誤差関数として、ソフトマックス関数\n",
    "        # を用いて、誤差を導出\n",
    "        return F.softmax_cross_entropy(y, t), F.accuracy(y, t)\n",
    "\n"
   ]
  },
  {
   "cell_type": "code",
   "execution_count": 9,
   "metadata": {
    "collapsed": false
   },
   "outputs": [],
   "source": [
    "# Setup optimizer\n",
    "optimizer = optimizers.Adam()\n",
    "optimizer.setup(model)\n",
    "\n",
    "train_loss = []\n",
    "train_acc= []\n",
    "test_loss = []\n",
    "test_acc = []\n",
    "\n",
    "l1_W = []\n",
    "l2_W = []\n",
    "l3_W = []\n",
    "l4_W = []\n",
    "\n"
   ]
  },
  {
   "cell_type": "code",
   "execution_count": 10,
   "metadata": {
    "collapsed": false
   },
   "outputs": [
    {
     "name": "stdout",
     "output_type": "stream",
     "text": [
      "epoch 1\n",
      "train mean loss=0.361558939729, accuracy=0.901428561125\n",
      "test  mean loss=0.320447719568, accuracy=0.862562185645\n",
      "epoch 2\n",
      "train mean loss=0.195811106424, accuracy=0.90428571403\n",
      "test  mean loss=0.236529243684, accuracy=0.862562189351\n",
      "epoch 3\n",
      "train mean loss=0.162918999658, accuracy=0.918571427464\n",
      "test  mean loss=0.202692315372, accuracy=0.917288555361\n",
      "epoch 4\n",
      "train mean loss=0.142954632108, accuracy=0.944285709943\n",
      "test  mean loss=0.16731906205, accuracy=0.973569644402\n",
      "epoch 5\n",
      "train mean loss=0.120972408248, accuracy=0.9642857079\n",
      "test  mean loss=0.14241303952, accuracy=0.987562185051\n",
      "epoch 6\n",
      "train mean loss=0.102155202867, accuracy=0.968571422356\n",
      "test  mean loss=0.121041885878, accuracy=0.990049746722\n",
      "epoch 7\n",
      "train mean loss=0.0876061143354, accuracy=0.974285709006\n",
      "test  mean loss=0.110605228414, accuracy=0.988805963106\n",
      "epoch 8\n",
      "train mean loss=0.0782877895981, accuracy=0.972857136812\n",
      "test  mean loss=0.0936540520162, accuracy=0.992226359708\n",
      "epoch 9\n",
      "train mean loss=0.0735710871273, accuracy=0.974285709006\n",
      "test  mean loss=0.0831587003794, accuracy=0.998756213494\n",
      "epoch 10\n",
      "train mean loss=0.0669125229719, accuracy=0.975714281201\n",
      "test  mean loss=0.0754881125472, accuracy=1.00248755507\n",
      "epoch 11\n",
      "train mean loss=0.0588583246738, accuracy=0.98285713579\n",
      "test  mean loss=0.0754201732893, accuracy=0.99875621164\n",
      "epoch 12\n",
      "train mean loss=0.0569139283367, accuracy=0.972857136812\n",
      "test  mean loss=0.0853853312087, accuracy=0.987562185051\n",
      "epoch 13\n",
      "train mean loss=0.0566010044089, accuracy=0.975714279073\n",
      "test  mean loss=0.0669436039871, accuracy=0.999999995255\n",
      "epoch 14\n",
      "train mean loss=0.0472611966065, accuracy=0.98285713579\n",
      "test  mean loss=0.0601790227119, accuracy=1.00497511674\n",
      "epoch 15\n",
      "train mean loss=0.0494214606172, accuracy=0.984285710113\n",
      "test  mean loss=0.0578899977298, accuracy=1.00373133498\n",
      "epoch 16\n",
      "train mean loss=0.046897150098, accuracy=0.984285710113\n",
      "test  mean loss=0.05660437161, accuracy=1.00497511674\n",
      "epoch 17\n",
      "train mean loss=0.0512458988898, accuracy=0.979999993529\n",
      "test  mean loss=0.0661675634809, accuracy=0.99347014703\n",
      "epoch 18\n",
      "train mean loss=0.0410056304027, accuracy=0.987142852374\n",
      "test  mean loss=0.0751561831581, accuracy=0.995024870062\n",
      "epoch 19\n",
      "train mean loss=0.0446807539224, accuracy=0.979999995657\n",
      "test  mean loss=0.0656095788923, accuracy=0.997512433585\n",
      "epoch 20\n",
      "train mean loss=0.0409841515066, accuracy=0.984285705856\n",
      "test  mean loss=0.0532465264018, accuracy=1.00497511674\n"
     ]
    },
    {
     "data": {
      "text/plain": [
       "[]"
      ]
     },
     "execution_count": 10,
     "metadata": {},
     "output_type": "execute_result"
    },
    {
     "data": {
      "image/png": "[encoded data removed]",
      "text/plain": [
       "<matplotlib.figure.Figure at 0x106398f90>"
      ]
     },
     "metadata": {},
     "output_type": "display_data"
    }
   ],
   "source": [
    "# Learning loop\n",
    "for epoch in xrange(1, n_epoch+1):\n",
    "        print 'epoch', epoch\n",
    "\n",
    "        # training\n",
    "        # N個の順番をランダムに並び替える\n",
    "        perm = np.random.permutation(N)\n",
    "        sum_accuracy = 0\n",
    "        sum_loss = 0\n",
    "        # 0〜Nまでのデータをバッチサイズごとに使って学習\n",
    "        for i in xrange(0, N, batchsize):\n",
    "                x_batch = x_train[perm[i:i+batchsize]]\n",
    "                y_batch = y_train[perm[i:i+batchsize]]\n",
    "\n",
    "                # 勾配を初期化\n",
    "                optimizer.zero_grads()\n",
    "                # 順伝播させて誤差と精度を算出\n",
    "                loss, acc = forward(x_batch, y_batch)\n",
    "                # 誤差逆伝播で勾配を計算\n",
    "                loss.backward()\n",
    "                optimizer.update()\n",
    "                \n",
    "                sum_loss += float(cuda.to_cpu(loss.data)) * batchsize\n",
    "                sum_accuracy += float(cuda.to_cpu(acc.data)) * batchsize\n",
    "\n",
    "        # 訓練データの誤差と、正解精度を表示\n",
    "        print 'train mean loss={}, accuracy={}'.format(sum_loss / N, sum_accuracy / N)\n",
    "                \n",
    "        train_loss.append(sum_loss / N)\n",
    "        train_acc.append(sum_accuracy / N)\n",
    "\n",
    "\n",
    "        # evaluation\n",
    "        # テストデータで誤差と、正解精度を算出し汎化性能を確認\n",
    "        sum_accuracy = 0\n",
    "        sum_loss     = 0\n",
    "        for i in xrange(0, N_test, batchsize):\n",
    "                x_batch = x_test[i:i+batchsize]\n",
    "                y_batch = y_test[i:i+batchsize]\n",
    "\n",
    "                # 順伝播させて誤差と精度を算出\n",
    "                loss, acc = forward(x_batch, y_batch, train=False)\n",
    "          \n",
    "\n",
    "\n",
    "                sum_loss     += float(cuda.to_cpu(loss.data)) * batchsize\n",
    "                sum_accuracy += float(cuda.to_cpu(acc.data)) * batchsize\n",
    "\n",
    "        # テストデータでの誤差と、正解精度を表示\n",
    "        print 'test  mean loss={}, accuracy={}'.format(sum_loss / N_test, sum_accuracy / N_test)\n",
    "        test_loss.append( sum_loss / N_test)\n",
    "        test_acc.append( sum_accuracy / N_test)\n",
    "        \n",
    "\n",
    "        \n",
    "        # 学習したパラメーターを保存\n",
    "        l1_W.append(model.l1.W)\n",
    "        l2_W.append(model.l2.W)\n",
    "        l3_W.append(model.l3.W)\n",
    "        l4_W.append(model.l4.W)\n",
    "        \n",
    "        #l1_W = np.append( l1_W, model.l1.W)\n",
    "        \n",
    "                      \n",
    "        #pprint(vars(model.l1))\n",
    "        #pprint(model.l1.W[0:2])\n",
    "\n",
    "        # 精度と誤差をグラフ描画\n",
    "plt.figure(figsize=(8,6))\n",
    "plt.plot(range(len(train_acc)), train_acc)\n",
    "plt.plot(range(len(test_acc)), test_acc)\n",
    "plt.legend([\"train_acc\",\"test_acc\"],loc=4)\n",
    "plt.title(\"Accuracy of classification.\")\n",
    "plt.plot()\n"
   ]
  },
  {
   "cell_type": "code",
   "execution_count": 6,
   "metadata": {
    "collapsed": false
   },
   "outputs": [
    {
     "name": "stdout",
     "output_type": "stream",
     "text": [
      "['1' '0.243385180831' '0.633278667927' '0.083005733788' '-0.404107242823'\n",
      " '-0.382405668497' '-0.684236109257' '-0.367535293102' '0.366420418024'\n",
      " '0.266745388508' '0.656232178211' '0.0580128617585' '-0.427050560713'\n",
      " '-0.360159337521' '-0.662854909897' '-0.345684528351' '0.387699157'\n",
      " '0.291274547577' '0.680039644241' '0.032618522644' '-0.449179619551'\n",
      " '-0.3397962749' '-0.643511593342' '-0.326059877872' '0.406973153353'\n",
      " '0.316075742245' '0.704254984856' '0.00700184842572' '-0.471299737692'\n",
      " '-0.321260869503' '-0.625698804855' '-0.30850148201' '0.423967003822'\n",
      " '0.341537803411' '0.728143811226' '-0.0188980810344' '-0.493013232946'\n",
      " '-0.304453223944' '-0.60915851593' '-0.2931676507' '0.440147817135'\n",
      " '0.367482960224' '0.752617657185' '-0.0441642738879' '-0.515438616276'\n",
      " '-0.289246559143' '-0.59405195713' '-0.278919935226' '0.455035299063'\n",
      " '0.393154084682' '0.776309192181' '-0.0697188898921' '-0.536412596703'\n",
      " '-0.274951040745' '-0.581080555916' '-0.265155315399' '0.470089375973'\n",
      " '0.418795973063' '0.798907339573' '-0.0950097367167' '-0.559918165207'\n",
      " '-0.261676341295' '-0.567978441715' '-0.252422958612' '0.483478695154'\n",
      " '0.445606380701' '0.822562277317' '-0.119528219104' '-0.581235349178'\n",
      " '-0.250277519226' '-0.556620001793' '-0.240648061037' '0.498101711273'\n",
      " '0.471496134996' '0.843897223473' '-0.142694234848' '-0.600748896599'\n",
      " '-0.240588262677' '-0.546771526337' '-0.229030415416' '0.511734187603'\n",
      " '0.496006637812' '0.862904191017' '-0.166551008821' '-0.62182945013'\n",
      " '-0.230972737074' '-0.536321759224' '-0.216635510325' '0.526471972466'\n",
      " '0.521796107292' '0.880719065666' '-0.189985722303' '-0.640136539936'\n",
      " '-0.222697719932' '-0.527794122696' '-0.205200061202' '0.540575563908'\n",
      " '0.545540988445' '0.896420061588' '-0.212817013264' '-0.657727360725'\n",
      " '-0.214821994305' '-0.52008330822' '-0.192644059658' '0.554651677608'\n",
      " '0.568671941757' '0.911786019802' '-0.234353974462' '-0.674435913563'\n",
      " '-0.20789848268' '-0.513281404972' '-0.180250808597' '0.568726539612'\n",
      " '0.591469883919' '0.926759839058' '-0.255740314722' '-0.69096493721'\n",
      " '-0.201852753758' '-0.507115960121' '-0.168326854706' '0.582447230816'\n",
      " '0.613715469837' '0.938889443874' '-0.276389271021' '-0.702557563782'\n",
      " '-0.196416482329' '-0.502279400826' '-0.157552555203' '0.595365226269'\n",
      " '0.633620738983' '0.947735190392' '-0.295611292124' '-0.714488625526'\n",
      " '-0.191790521145' '-0.497652858496' '-0.14893566072' '0.605781853199'\n",
      " '0.654582500458' '0.957810938358' '-0.316163480282' '-0.726941227913'\n",
      " '-0.187058389187' '-0.493125885725' '-0.13949021697' '0.617025911808'\n",
      " '0.672524631023' '0.965767502785' '-0.332992434502' '-0.73498237133'\n",
      " '-0.183183088899' '-0.489486634731' '-0.130915731192' '0.627205550671'\n",
      " '0.69221675396' '0.971496582031' '-0.351207494736' '-0.742040991783'\n",
      " '-0.17986613512' '-0.486464291811' '-0.122015707195' '0.637411355972']\n"
     ]
    }
   ],
   "source": [
    "# 学習したパラメータを出力\n",
    "print l1_W\n",
    "\n",
    "#print l2_W\n",
    "#print l3_W"
   ]
  },
  {
   "cell_type": "code",
   "execution_count": 8,
   "metadata": {
    "collapsed": false
   },
   "outputs": [
    {
     "name": "stdout",
     "output_type": "stream",
     "text": [
      "{'W': array([[ 0.69221675,  0.97149658],\n",
      "       [-0.35120749, -0.74204099],\n",
      "       [-0.17986614, -0.48646429],\n",
      "       [-0.12201571,  0.63741136]], dtype=float32),\n",
      " 'b': array([ 0.41029909,  0.29600775, -0.2109804 , -0.00146954], dtype=float32),\n",
      " 'gW': array([[-0.02851585, -0.01814253],\n",
      "       [ 0.06960598,  0.04130198],\n",
      "       [-0.00750261, -0.00472702],\n",
      "       [-0.03389475, -0.01394051]], dtype=float32),\n",
      " 'gb': array([-0.01186311, -0.13013972,  0.01142588, -0.01415433], dtype=float32)}\n",
      "{'W': array([[-1.0924716 ,  1.10244846,  0.2408329 , -0.24381626],\n",
      "       [ 0.33471557, -0.44035417,  0.45139486,  0.75798011]], dtype=float32),\n",
      " 'b': array([ 0.02525388, -0.02525389], dtype=float32),\n",
      " 'gW': array([[ 0.02959166, -0.06065036, -0.00589033,  0.00470932],\n",
      "       [-0.02959165,  0.06065036,  0.00589033, -0.00470932]], dtype=float32),\n",
      " 'gb': array([-0.05731631,  0.05731632], dtype=float32)}\n"
     ]
    }
   ],
   "source": [
    "pprint(vars(model.l1))\n",
    "pprint(vars(model.l2))"
   ]
  },
  {
   "cell_type": "code",
   "execution_count": null,
   "metadata": {
    "collapsed": true
   },
   "outputs": [],
   "source": []
  }
 ],
 "metadata": {
  "kernelspec": {
   "display_name": "Python 2",
   "language": "python",
   "name": "python2"
  },
  "language_info": {
   "codemirror_mode": {
    "name": "ipython",
    "version": 2
   },
   "file_extension": ".py",
   "mimetype": "text/x-python",
   "name": "python",
   "nbconvert_exporter": "python",
   "pygments_lexer": "ipython2",
   "version": "2.7.10"
  }
 },
 "nbformat": 4,
 "nbformat_minor": 0
}
