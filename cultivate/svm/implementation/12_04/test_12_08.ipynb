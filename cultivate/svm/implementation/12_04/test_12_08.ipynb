{
 "cells": [
  {
   "cell_type": "code",
   "execution_count": 35,
   "metadata": {
    "collapsed": false
   },
   "outputs": [],
   "source": [
    "%matplotlib inline\n",
    "import numpy as np\n",
    "import matplotlib.pyplot as plt\n",
    "from sklearn.svm import SVC\n",
    "from sklearn.cross_validation import train_test_split\n",
    "from sklearn.grid_search import GridSearchCV\n",
    "from sklearn.metrics import classification_report, confusion_matrix\n",
    "import sys\n",
    "import csv\n",
    "from pprint import pprint \n",
    "\n",
    "plt.style.use('ggplot')"
   ]
  },
  {
   "cell_type": "code",
   "execution_count": 36,
   "metadata": {
    "collapsed": false
   },
   "outputs": [],
   "source": [
    "\n",
    "\n",
    "\n",
    "#=================================================\n",
    "# csvファイルからデータを取り出し、listに格納\n",
    "def set_data():\n",
    "\n",
    "        filename = \"../../../data/secondary_selection/input_data2_2\"\n",
    "        \n",
    "        f = open('%s.csv' % filename, 'rU')\n",
    "        data = csv.reader(f)\n",
    "\n",
    "        data_set = []\n",
    "        target_set = []\n",
    "        for line in data:\n",
    "                data_set.append(line[1:16])\n",
    "                target_set.append(line[16])\n",
    "        f.close()\n",
    "        np_dataSet = np.array(data_set, dtype=np.float32)\n",
    "        np_targetSet = np.array(target_set, dtype=np.int32)\n",
    "        return np_dataSet, np_targetSet\n",
    "\n",
    "#=================================================\n",
    "\n",
    "data, target = set_data()\n",
    "\n",
    "# <!--- start_debug\n",
    "#print data.shape\n",
    "#print target.shape\n",
    "#       end_debug ----> \n",
    "\n",
    "\n",
    "# 学習用データをN個、検証用データを残りの個数と設定\n",
    "# Nの値は暫定的なもの\n",
    "#N = 300\n",
    "#x_train, x_test = np.split( data, [N])  \n",
    "#y_train, y_test = np.split( target, [N]) \n",
    "#N_test = y_test.size\n",
    "#print data\n",
    "#print target\n",
    "\n",
    "#pre_list = []\n",
    "\n",
    "#N = data.shape[0]\n",
    "#print N\n",
    "\n",
    "#perm = np.random.permutation(N)\n",
    "\n",
    "#print data\n",
    "#print data[perm]"
   ]
  },
  {
   "cell_type": "code",
   "execution_count": 37,
   "metadata": {
    "collapsed": false
   },
   "outputs": [
    {
     "name": "stdout",
     "output_type": "stream",
     "text": [
      "\n",
      "==================================================\n",
      "accuracy\n",
      "==================================================\n",
      "\n",
      "+ ベストパラメータ:\n",
      "\n",
      "SVC(C=10, cache_size=200, class_weight=None, coef0=0.0, degree=3, gamma=0.01,\n",
      "  kernel='rbf', max_iter=-1, probability=False, random_state=None,\n",
      "  shrinking=True, tol=0.001, verbose=False)\n",
      "\n",
      "+ CVした時の平均スコア:\n",
      "\n",
      "0.948 (+/- 0.004) for {'kernel': 'rbf', 'C': 10, 'gamma': 0.01}\n",
      "0.935 (+/- 0.011) for {'kernel': 'rbf', 'C': 10, 'gamma': 0.001}\n",
      "0.930 (+/- 0.008) for {'kernel': 'rbf', 'C': 100, 'gamma': 0.01}\n",
      "0.943 (+/- 0.010) for {'kernel': 'rbf', 'C': 100, 'gamma': 0.001}\n",
      "\n",
      "==================================================\n",
      "precision\n",
      "==================================================\n",
      "\n",
      "+ ベストパラメータ:\n",
      "\n",
      "SVC(C=10, cache_size=200, class_weight=None, coef0=0.0, degree=3, gamma=0.01,\n",
      "  kernel='rbf', max_iter=-1, probability=False, random_state=None,\n",
      "  shrinking=True, tol=0.001, verbose=False)\n",
      "\n",
      "+ CVした時の平均スコア:\n",
      "\n",
      "0.944 (+/- 0.005) for {'kernel': 'rbf', 'C': 10, 'gamma': 0.01}\n",
      "0.928 (+/- 0.011) for {'kernel': 'rbf', 'C': 10, 'gamma': 0.001}\n",
      "0.933 (+/- 0.017) for {'kernel': 'rbf', 'C': 100, 'gamma': 0.01}\n",
      "0.943 (+/- 0.006) for {'kernel': 'rbf', 'C': 100, 'gamma': 0.001}\n",
      "\n",
      "==================================================\n",
      "recall\n",
      "==================================================\n",
      "\n",
      "+ ベストパラメータ:\n",
      "\n",
      "SVC(C=10, cache_size=200, class_weight=None, coef0=0.0, degree=3, gamma=0.01,\n",
      "  kernel='rbf', max_iter=-1, probability=False, random_state=None,\n",
      "  shrinking=True, tol=0.001, verbose=False)\n",
      "\n",
      "+ CVした時の平均スコア:\n",
      "\n",
      "0.939 (+/- 0.012) for {'kernel': 'rbf', 'C': 10, 'gamma': 0.01}\n",
      "0.928 (+/- 0.021) for {'kernel': 'rbf', 'C': 10, 'gamma': 0.001}\n",
      "0.911 (+/- 0.008) for {'kernel': 'rbf', 'C': 100, 'gamma': 0.01}\n",
      "0.928 (+/- 0.016) for {'kernel': 'rbf', 'C': 100, 'gamma': 0.001}\n"
     ]
    }
   ],
   "source": [
    "## トレーニングデータとテストデータに分割．\n",
    "X_train, X_test, y_train, y_test = train_test_split(\n",
    "    data, target, test_size=0.25, random_state=32)\n",
    "\n",
    "#print X_train,y_test\n",
    "\n",
    "N = data.shape[0]\n",
    "    \n",
    "perm = np.random.permutation(N)\n",
    "\n",
    "rnd_data = data[perm]\n",
    "rnd_target = target[perm]\n",
    "\n",
    "## チューニングパラメータ\n",
    "tuned_parameters = [{'kernel': ['rbf'], 'gamma': [1e-2, 1e-3],\n",
    "                     'C': [ 10, 100]}]\n",
    "\n",
    "scores = ['accuracy', 'precision', 'recall']\n",
    "\n",
    "for score in scores:\n",
    "    print '\\n' + '='*50\n",
    "    print score\n",
    "    print '='*50\n",
    "\n",
    "    clf = GridSearchCV(SVC(C=1), tuned_parameters, cv=4, scoring=score, n_jobs=-1)\n",
    "    #clf.fit(X_train, y_train)\n",
    "    clf.fit(rnd_data, rnd_target)\n",
    "    \n",
    "    print \"\\n+ ベストパラメータ:\\n\"\n",
    "    print clf.best_estimator_\n",
    "\n",
    "    print\"\\n+ CVした時の平均スコア:\\n\"\n",
    "    for params, mean_score, all_scores in clf.grid_scores_:\n",
    "        print \"{:.3f} (+/- {:.3f}) for {}\".format(mean_score, all_scores.std() / 2, params)\n",
    "\n",
    "    #print \"\\n+ テストデータでの識別結果:\\n\"\n",
    "    #y_true, y_pred = y_test, clf.predict(X_test)\n",
    "    #clf2 = clf.best_estimator_\n",
    "    #print classification_report(y_true, y_pred)\n",
    "    \n",
    "    "
   ]
  },
  {
   "cell_type": "code",
   "execution_count": 67,
   "metadata": {
    "collapsed": false
   },
   "outputs": [],
   "source": []
  },
  {
   "cell_type": "code",
   "execution_count": null,
   "metadata": {
    "collapsed": false
   },
   "outputs": [],
   "source": []
  },
  {
   "cell_type": "code",
   "execution_count": null,
   "metadata": {
    "collapsed": false
   },
   "outputs": [],
   "source": []
  },
  {
   "cell_type": "code",
   "execution_count": null,
   "metadata": {
    "collapsed": true
   },
   "outputs": [],
   "source": []
  }
 ],
 "metadata": {
  "kernelspec": {
   "display_name": "Python 2",
   "language": "python",
   "name": "python2"
  },
  "language_info": {
   "codemirror_mode": {
    "name": "ipython",
    "version": 2
   },
   "file_extension": ".py",
   "mimetype": "text/x-python",
   "name": "python",
   "nbconvert_exporter": "python",
   "pygments_lexer": "ipython2",
   "version": "2.7.10"
  }
 },
 "nbformat": 4,
 "nbformat_minor": 0
}
