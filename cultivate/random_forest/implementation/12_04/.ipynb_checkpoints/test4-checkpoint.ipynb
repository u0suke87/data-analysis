{
 "cells": [
  {
   "cell_type": "code",
   "execution_count": 4,
   "metadata": {
    "collapsed": false
   },
   "outputs": [
    {
     "name": "stdout",
     "output_type": "stream",
     "text": [
      "0\n",
      "20\n",
      "40\n",
      "60\n",
      "80\n",
      "100\n",
      "120\n",
      "140\n",
      "160\n",
      "180\n",
      "200\n",
      "220\n",
      "240\n",
      "260\n",
      "280\n"
     ]
    }
   ],
   "source": [
    "%matplotlib inline\n",
    "import numpy as np\n",
    "import matplotlib.pyplot as plt\n",
    "from chainer import cuda, Variable, FunctionSet, optimizers\n",
    "import chainer.functions as F\n",
    "import sys\n",
    "import csv\n",
    "from pprint import pprint \n",
    "\n",
    "plt.style.use('ggplot')\n",
    "\n",
    "N = 300\n",
    "batchsize = 20\n",
    "for i in xrange(0, N, batchsize):\n",
    "    print i"
   ]
  },
  {
   "cell_type": "code",
   "execution_count": 25,
   "metadata": {
    "collapsed": false
   },
   "outputs": [],
   "source": [
    "# 確率的勾配降下法におけるミニバッチ数\n",
    "batchsize = 20\n",
    "\n",
    "# 学習の繰り返し回数\n",
    "n_epoch = 10\n",
    "\n",
    "# 中間層の数\n",
    "n_units = 20\n",
    "\n",
    "\n",
    "#=================================================\n",
    "# csvファイルからデータを取り出し、listに格納\n",
    "def set_data():\n",
    "\n",
    "        filename = \"../../../data/secondary_selection/input_data2_2\"\n",
    "        \n",
    "        f = open('%s.csv' % filename, 'rU')\n",
    "        data = csv.reader(f)\n",
    "\n",
    "        data_set = []\n",
    "        target_set = []\n",
    "        for line in data:\n",
    "                data_set.append(line[1:16])\n",
    "                target_set.append(line[16])\n",
    "        f.close()\n",
    "        np_dataSet = np.array(data_set, dtype=np.float32)\n",
    "        np_targetSet = np.array(target_set, dtype=np.int32)\n",
    "        return np_dataSet, np_targetSet\n",
    "\n",
    "#=================================================\n",
    "\n",
    "data, target = set_data()\n",
    "\n",
    "# <!--- start_debug\n",
    "#print data.shape\n",
    "#print target.shape\n",
    "#       end_debug ----> \n",
    "\n",
    "\n",
    "# 学習用データをN個、検証用データを残りの個数と設定\n",
    "# Nの値は暫定的なもの\n",
    "N = 300\n",
    "x_train, x_test = np.split( data, [N])  \n",
    "y_train, y_test = np.split( target, [N]) \n",
    "N_test = y_test.size\n",
    "#print data\n",
    "#print target\n",
    "\n"
   ]
  },
  {
   "cell_type": "code",
   "execution_count": 26,
   "metadata": {
    "collapsed": true
   },
   "outputs": [],
   "source": [
    "# 多層パーセプトロンモデルの設定\n",
    "# 入力 15次元、出力 2次元\n",
    "model = FunctionSet(l1=F.Linear(15, n_units),\n",
    "                    l2=F.Linear(n_units, n_units),\n",
    "                    l3=F.Linear(n_units, n_units),\n",
    "                    l4=F.Linear(n_units, 2))\n",
    "\n",
    "# Neural net architecture\n",
    "# ニューラルネットの構造\n",
    "def forward(x_data, y_data, train=True ):\n",
    "        x, t = Variable(x_data), Variable(y_data)\n",
    "        h1 = F.dropout(F.relu(model.l1(x)), ratio=.2, train=train)\n",
    "        h2 = F.dropout(F.relu(model.l2(h1)), ratio=.2, train=train)\n",
    "        h3 = F.dropout(F.relu(model.l3(h2)), ratio=.2, train=train)\n",
    "        y = model.l4(h3)\n",
    "        # 0/1の2クラス分類なので誤差関数として、ソフトマックス関数\n",
    "        # を用いて、誤差を導出\n",
    "        return F.softmax_cross_entropy(y, t), F.accuracy(y, t)\n",
    "\n"
   ]
  },
  {
   "cell_type": "code",
   "execution_count": 27,
   "metadata": {
    "collapsed": false
   },
   "outputs": [],
   "source": [
    "# Setup optimizer\n",
    "optimizer = optimizers.Adam()\n",
    "optimizer.setup(model)\n",
    "\n",
    "train_loss = []\n",
    "train_acc= []\n",
    "test_loss = []\n",
    "test_acc = []\n",
    "\n",
    "l1_W = []\n",
    "l2_W = []\n",
    "l3_W = []\n",
    "l4_W = []\n",
    "\n",
    "count_epoch = 1\n",
    "is_done = False"
   ]
  },
  {
   "cell_type": "code",
   "execution_count": 35,
   "metadata": {
    "collapsed": false
   },
   "outputs": [
    {
     "name": "stdout",
     "output_type": "stream",
     "text": [
      "epoch 71\n",
      "train mean loss=0.0996905440775, accuracy=0.963333324591\n",
      "test  mean loss=0.0632229512721, accuracy=1.03508771512\n",
      "epoch 72\n",
      "train mean loss=0.0782929228619, accuracy=0.966666658719\n",
      "test  mean loss=0.0659018097315, accuracy=1.04385964703\n",
      "epoch 73\n",
      "train mean loss=0.0765955340117, accuracy=0.98333332936\n",
      "test  mean loss=0.0594981798183, accuracy=1.04385964703\n",
      "epoch 74\n",
      "train mean loss=0.0779416991398, accuracy=0.966666658719\n",
      "test  mean loss=0.0549943768011, accuracy=1.04385964703\n",
      "epoch 75\n",
      "train mean loss=0.0592544381817, accuracy=0.986666663488\n",
      "test  mean loss=0.058756086142, accuracy=1.04385964703\n",
      "epoch 76\n",
      "train mean loss=0.0748649572954, accuracy=0.973333326976\n",
      "test  mean loss=0.0553522454248, accuracy=1.04385964703\n",
      "epoch 77\n",
      "train mean loss=0.0544023587058, accuracy=0.986666663488\n",
      "test  mean loss=0.0556449565971, accuracy=1.04385964703\n",
      "epoch 78\n",
      "train mean loss=0.0735343712072, accuracy=0.979999995232\n",
      "test  mean loss=0.0488124855002, accuracy=1.04385964703\n",
      "epoch 79\n",
      "train mean loss=0.0689202801014, accuracy=0.979999995232\n",
      "test  mean loss=0.0536228981065, accuracy=1.03508771512\n",
      "epoch 80\n",
      "train mean loss=0.0556134624407, accuracy=0.976666661104\n",
      "test  mean loss=0.0618444613524, accuracy=1.03508771512\n"
     ]
    },
    {
     "data": {
      "image/png": "[encoded data removed]",
      "text/plain": [
       "<matplotlib.figure.Figure at 0x106985f50>"
      ]
     },
     "metadata": {},
     "output_type": "display_data"
    }
   ],
   "source": [
    "if is_done == True:\n",
    "    count_epoch += n_epoch\n",
    "    \n",
    "# Learning loop\n",
    "for epoch in xrange(count_epoch, count_epoch+n_epoch):\n",
    "        print 'epoch', epoch\n",
    "\n",
    "        # training\n",
    "        # N個の順番をランダムに並び替える\n",
    "        perm = np.random.permutation(N)\n",
    "        sum_accuracy = 0\n",
    "        sum_loss = 0\n",
    "        # 0〜Nまでのデータをバッチサイズごとに使って学習\n",
    "        for i in xrange(0, N, batchsize):\n",
    "                x_batch = x_train[perm[i:i+batchsize]]\n",
    "                y_batch = y_train[perm[i:i+batchsize]]\n",
    "\n",
    "                # 勾配を初期化\n",
    "                optimizer.zero_grads()\n",
    "                # 順伝播させて誤差と精度を算出\n",
    "                loss, acc = forward(x_batch, y_batch)\n",
    "                # 誤差逆伝播で勾配を計算\n",
    "                loss.backward()\n",
    "                optimizer.update()\n",
    "                \n",
    "                sum_loss += float(cuda.to_cpu(loss.data)) * batchsize\n",
    "                sum_accuracy += float(cuda.to_cpu(acc.data)) * batchsize\n",
    "\n",
    "        # 訓練データの誤差と、正解精度を表示\n",
    "        print 'train mean loss={}, accuracy={}'.format(sum_loss / N, sum_accuracy / N)\n",
    "                \n",
    "        train_loss.append(sum_loss / N)\n",
    "        train_acc.append(sum_accuracy / N)\n",
    "\n",
    "\n",
    "        # evaluation\n",
    "        # テストデータで誤差と、正解精度を算出し汎化性能を確認\n",
    "        sum_accuracy = 0\n",
    "        sum_loss     = 0\n",
    "        n = 410 - N\n",
    "        per = np.random.permutation(n)\n",
    "        for i in xrange(0, N_test, batchsize):\n",
    "                x_batch = x_test[per[i:i+batchsize]]\n",
    "                y_batch = y_test[per[i:i+batchsize]]\n",
    "\n",
    "                # 順伝播させて誤差と精度を算出\n",
    "                loss, acc = forward(x_batch, y_batch, train=False)\n",
    "          \n",
    "\n",
    "                #print( cuda.to_cpu(loss.data))\n",
    "                sum_loss     += float(cuda.to_cpu(loss.data)) * batchsize\n",
    "                sum_accuracy += float(cuda.to_cpu(acc.data)) * batchsize\n",
    "\n",
    "        # テストデータでの誤差と、正解精度を表示\n",
    "        print 'test  mean loss={}, accuracy={}'.format(sum_loss / N_test, sum_accuracy / N_test)\n",
    "        test_loss.append( sum_loss / N_test)\n",
    "        test_acc.append( sum_accuracy / N_test)\n",
    "        \n",
    "\n",
    "        \n",
    "        # 学習したパラメーターを保存\n",
    "        l1_W.append(model.l1.W)\n",
    "        l2_W.append(model.l2.W)\n",
    "        l3_W.append(model.l3.W)\n",
    "        l4_W.append(model.l4.W)\n",
    "        \n",
    "        #l1_W = np.append( l1_W, model.l1.W)\n",
    "        \n",
    "                      \n",
    "        #pprint(vars(model.l1))\n",
    "        #pprint(model.l1.W[0:2])\n",
    "\n",
    "        # 精度と誤差をグラフ描画\n",
    "plt.figure(figsize=(8,6))\n",
    "plt.plot(range(len(train_acc)), train_acc)\n",
    "plt.plot(range(len(test_acc)), test_acc)\n",
    "plt.legend([\"train_acc\",\"test_acc\"],loc=4)\n",
    "plt.title(\"Accuracy of classification.\")\n",
    "plt.plot()\n",
    "\n",
    "is_done = True"
   ]
  },
  {
   "cell_type": "code",
   "execution_count": 42,
   "metadata": {
    "collapsed": false
   },
   "outputs": [
    {
     "name": "stdout",
     "output_type": "stream",
     "text": [
      "[[  0.31144959  -0.4000473 ]\n",
      " [ -4.75606537   6.32488441]\n",
      " [ -2.56400204   2.87870574]\n",
      " [  0.60563874  -0.32395741]\n",
      " [ -0.74024415   1.54552341]\n",
      " [ -1.19727945   2.07823539]\n",
      " [ -0.02147472  -0.47758412]\n",
      " [ -1.07075405   1.66394055]\n",
      " [ -7.99542284   9.84941864]\n",
      " [-13.99386024  17.10969543]\n",
      " [ -1.52038181   1.76278055]\n",
      " [ -1.93918741   2.27651668]\n",
      " [  0.13451995  -0.10531852]\n",
      " [ -3.42047596   4.47207451]\n",
      " [ -9.07000923  11.17031002]]\n"
     ]
    }
   ],
   "source": [
    "# 学習したパラメータを出力\n",
    "#print l1_W[0]\n",
    "\n",
    "#print l2_W\n",
    "#print l3_W\n",
    "\n",
    "l1 = l1_W[0].T\n",
    "l2 = l2_W[0].T\n",
    "l3 = l3_W[0].T\n",
    "l4 = l4_W[0].T\n",
    "\n",
    "\n",
    "param = l1.dot(l2).dot(l3).dot(l4)\n",
    "\n",
    "print param"
   ]
  },
  {
   "cell_type": "code",
   "execution_count": 8,
   "metadata": {
    "collapsed": false
   },
   "outputs": [
    {
     "name": "stdout",
     "output_type": "stream",
     "text": [
      "{'W': array([[ 0.69221675,  0.97149658],\n",
      "       [-0.35120749, -0.74204099],\n",
      "       [-0.17986614, -0.48646429],\n",
      "       [-0.12201571,  0.63741136]], dtype=float32),\n",
      " 'b': array([ 0.41029909,  0.29600775, -0.2109804 , -0.00146954], dtype=float32),\n",
      " 'gW': array([[-0.02851585, -0.01814253],\n",
      "       [ 0.06960598,  0.04130198],\n",
      "       [-0.00750261, -0.00472702],\n",
      "       [-0.03389475, -0.01394051]], dtype=float32),\n",
      " 'gb': array([-0.01186311, -0.13013972,  0.01142588, -0.01415433], dtype=float32)}\n",
      "{'W': array([[-1.0924716 ,  1.10244846,  0.2408329 , -0.24381626],\n",
      "       [ 0.33471557, -0.44035417,  0.45139486,  0.75798011]], dtype=float32),\n",
      " 'b': array([ 0.02525388, -0.02525389], dtype=float32),\n",
      " 'gW': array([[ 0.02959166, -0.06065036, -0.00589033,  0.00470932],\n",
      "       [-0.02959165,  0.06065036,  0.00589033, -0.00470932]], dtype=float32),\n",
      " 'gb': array([-0.05731631,  0.05731632], dtype=float32)}\n"
     ]
    }
   ],
   "source": [
    "pprint(vars(model.l1))\n",
    "pprint(vars(model.l2))"
   ]
  },
  {
   "cell_type": "code",
   "execution_count": null,
   "metadata": {
    "collapsed": true
   },
   "outputs": [],
   "source": []
  }
 ],
 "metadata": {
  "kernelspec": {
   "display_name": "Python 2",
   "language": "python",
   "name": "python2"
  },
  "language_info": {
   "codemirror_mode": {
    "name": "ipython",
    "version": 2
   },
   "file_extension": ".py",
   "mimetype": "text/x-python",
   "name": "python",
   "nbconvert_exporter": "python",
   "pygments_lexer": "ipython2",
   "version": "2.7.10"
  }
 },
 "nbformat": 4,
 "nbformat_minor": 0
}
