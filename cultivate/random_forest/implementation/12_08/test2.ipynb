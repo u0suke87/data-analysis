{
 "cells": [
  {
   "cell_type": "code",
   "execution_count": 17,
   "metadata": {
    "collapsed": false
   },
   "outputs": [],
   "source": [
    "%matplotlib inline\n",
    "import numpy as np\n",
    "import matplotlib.pyplot as plt\n",
    "from sklearn.ensemble import RandomForestClassifier\n",
    "from sklearn.cross_validation import train_test_split\n",
    "from sklearn.grid_search import GridSearchCV\n",
    "from sklearn.metrics import classification_report, confusion_matrix\n",
    "import sys\n",
    "import csv\n",
    "from pprint import pprint \n",
    "\n",
    "plt.style.use('ggplot')"
   ]
  },
  {
   "cell_type": "code",
   "execution_count": 18,
   "metadata": {
    "collapsed": false
   },
   "outputs": [],
   "source": [
    "\n",
    "\n",
    "\n",
    "#=================================================\n",
    "# csvファイルからデータを取り出し、listに格納\n",
    "def set_data():\n",
    "\n",
    "        filename = \"../../../data/secondary_selection/input_data2_2\"\n",
    "        \n",
    "        f = open('%s.csv' % filename, 'rU')\n",
    "        data = csv.reader(f)\n",
    "\n",
    "        data_set = []\n",
    "        target_set = []\n",
    "        for line in data:\n",
    "                data_set.append(line[1:16])\n",
    "                target_set.append(line[16])\n",
    "        f.close()\n",
    "        np_dataSet = np.array(data_set, dtype=np.float32)\n",
    "        np_targetSet = np.array(target_set, dtype=np.int32)\n",
    "        return np_dataSet, np_targetSet\n",
    "\n",
    "#=================================================\n",
    "\n",
    "data, target = set_data()\n",
    "\n",
    "# <!--- start_debug\n",
    "#print data.shape\n",
    "#print target.shape\n",
    "#       end_debug ----> \n",
    "\n",
    "\n",
    "# 学習用データをN個、検証用データを残りの個数と設定\n",
    "# Nの値は暫定的なもの\n",
    "#N = 300\n",
    "#x_train, x_test = np.split( data, [N])  \n",
    "#y_train, y_test = np.split( target, [N]) \n",
    "#N_test = y_test.size\n",
    "#print data\n",
    "#print target\n",
    "\n",
    "#pre_list = []\n"
   ]
  },
  {
   "cell_type": "code",
   "execution_count": 19,
   "metadata": {
    "collapsed": false
   },
   "outputs": [
    {
     "name": "stdout",
     "output_type": "stream",
     "text": [
      "\n",
      "==================================================\n",
      "Random Forest accuracy\n",
      "==================================================\n",
      "0.94\n",
      "\n",
      "+ ベストパラメータ:\n",
      "\n",
      "[ 0.03964996  0.01566738  0.00475838  0.02755509  0.00934781  0.00143373\n",
      "  0.00107052  0.06876792  0.15929444  0.53955443  0.00359959  0.0099694\n",
      "  0.00767233  0.05336952  0.05828949]\n"
     ]
    }
   ],
   "source": [
    "## トレーニングデータとテストデータに分割．\n",
    "X_train, X_test, y_train, y_test = train_test_split(\n",
    "    data, target, test_size=0.25, random_state=43)\n",
    "\n",
    "#print X_train,y_test\n",
    "\n",
    "\n",
    "## チューニングパラメータ\n",
    "#args ='max_features=9, min_samples_split=2, criterion=entropy, n_estimators=6, n_jobs=-1'\n",
    "\n",
    "\n",
    "print '\\n' + '='*50\n",
    "print 'Random Forest accuracy'\n",
    "print '='*50\n",
    "\n",
    "clf = RandomForestClassifier(max_features=9, min_samples_split=2, criterion='gini', n_estimators=10, n_jobs=-1)\n",
    "#clf.fit(X_train, y_train)\n",
    "clf.fit(X_train, y_train)\n",
    "\n",
    "#print clf.estimators_\n",
    "\n",
    "print clf.score(X_test, y_test)\n",
    "    \n",
    "print \"\\n+ ベストパラメータ:\\n\"\n",
    "#print clf.feature_importances_\n",
    "print clf.feature_importances_\n",
    "\n",
    "#print\"\\n+ CVした時の平均スコア:\\n\"\n",
    "#for params, mean_score, all_scores in clf.grid_scores_:\n",
    "#    print \"{:.3f} (+/- {:.3f}) for {}\".format(mean_score, all_scores.std() / 2, params)\n",
    "\n",
    "#print \"\\n+ テストデータでの識別結果:\\n\"\n",
    "#y_true, y_pred = y_test, clf.predict(X_test)\n",
    "#clf2 = clf.best_estimator_\n",
    "#print classification_report(y_true, y_pred)\n",
    "    \n",
    "    "
   ]
  },
  {
   "cell_type": "code",
   "execution_count": 9,
   "metadata": {
    "collapsed": false
   },
   "outputs": [
    {
     "name": "stdout",
     "output_type": "stream",
     "text": [
      "[  2.56754269e-02   2.93015435e-02   1.89735546e-02   1.39560248e-02\n",
      "   8.21820101e-03   3.02489417e-03   3.44494970e-04   3.17841477e-02\n",
      "   1.04938848e-01   6.51923717e-01   4.07694316e-03   7.98805978e-03\n",
      "   4.33050011e-03   2.83314442e-02   6.71322000e-02]\n"
     ]
    }
   ],
   "source": [
    "a = clf.feature_importances_\n",
    "print a.T\n"
   ]
  },
  {
   "cell_type": "code",
   "execution_count": null,
   "metadata": {
    "collapsed": false
   },
   "outputs": [],
   "source": []
  },
  {
   "cell_type": "code",
   "execution_count": null,
   "metadata": {
    "collapsed": false
   },
   "outputs": [],
   "source": []
  },
  {
   "cell_type": "code",
   "execution_count": null,
   "metadata": {
    "collapsed": true
   },
   "outputs": [],
   "source": []
  }
 ],
 "metadata": {
  "kernelspec": {
   "display_name": "Python 2",
   "language": "python",
   "name": "python2"
  },
  "language_info": {
   "codemirror_mode": {
    "name": "ipython",
    "version": 2
   },
   "file_extension": ".py",
   "mimetype": "text/x-python",
   "name": "python",
   "nbconvert_exporter": "python",
   "pygments_lexer": "ipython2",
   "version": "2.7.10"
  }
 },
 "nbformat": 4,
 "nbformat_minor": 0
}
