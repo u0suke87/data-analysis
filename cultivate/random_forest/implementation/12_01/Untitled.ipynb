{
 "cells": [
  {
   "cell_type": "code",
   "execution_count": 1,
   "metadata": {
    "collapsed": false
   },
   "outputs": [
    {
     "name": "stdout",
     "output_type": "stream",
     "text": [
      "1\n",
      "-1\n"
     ]
    }
   ],
   "source": [
    "from sklearn.ensemble import RandomForestClassifier\n",
    "\n",
    "trainingdata = [[1, 1], [2, 2], [-1, -1], [-2, -2]]\n",
    "traininglabel = [1, 1, -1, -1]\n",
    "testdata = [[3, 3], [-3, -3]]\n",
    "\n",
    "model = RandomForestClassifier()\n",
    "model.fit(trainingdata, traininglabel)\n",
    "output = model.predict(testdata)\n",
    "\n",
    "for label in output: print label"
   ]
  },
  {
   "cell_type": "code",
   "execution_count": null,
   "metadata": {
    "collapsed": true
   },
   "outputs": [],
   "source": []
  }
 ],
 "metadata": {
  "kernelspec": {
   "display_name": "Python 2",
   "language": "python",
   "name": "python2"
  },
  "language_info": {
   "codemirror_mode": {
    "name": "ipython",
    "version": 2
   },
   "file_extension": ".py",
   "mimetype": "text/x-python",
   "name": "python",
   "nbconvert_exporter": "python",
   "pygments_lexer": "ipython2",
   "version": "2.7.10"
  }
 },
 "nbformat": 4,
 "nbformat_minor": 0
}
