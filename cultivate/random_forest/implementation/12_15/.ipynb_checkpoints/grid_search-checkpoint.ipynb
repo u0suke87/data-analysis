{
 "cells": [
  {
   "cell_type": "code",
   "execution_count": 26,
   "metadata": {
    "collapsed": false
   },
   "outputs": [],
   "source": [
    "%matplotlib inline\n",
    "import numpy as np\n",
    "import matplotlib.pyplot as plt\n",
    "from sklearn.ensemble import RandomForestClassifier\n",
    "from sklearn.cross_validation import train_test_split\n",
    "from sklearn.grid_search import GridSearchCV\n",
    "from sklearn.metrics import classification_report, confusion_matrix\n",
    "import sys\n",
    "import csv\n",
    "from pprint import pprint \n",
    "\n",
    "plt.style.use('ggplot')"
   ]
  },
  {
   "cell_type": "code",
   "execution_count": 27,
   "metadata": {
    "collapsed": false
   },
   "outputs": [],
   "source": [
    "\n",
    "\n",
    "\n",
    "#=================================================\n",
    "# csvファイルからデータを取り出し、listに格納\n",
    "def set_data():\n",
    "\n",
    "        filename = \"../../../data/secondary_selection/input_data2_2\"\n",
    "        \n",
    "        f = open('%s.csv' % filename, 'rU')\n",
    "        data = csv.reader(f)\n",
    "\n",
    "        data_set = []\n",
    "        target_set = []\n",
    "        for line in data:\n",
    "                data_set.append(line[1:10])\n",
    "                target_set.append(line[10])\n",
    "        f.close()\n",
    "        np_dataSet = np.array(data_set, dtype=np.float32)\n",
    "        np_targetSet = np.array(target_set, dtype=np.int32)\n",
    "        return np_dataSet, np_targetSet\n",
    "\n",
    "#=================================================\n",
    "\n",
    "data, target = set_data()\n",
    "\n",
    "# <!--- start_debug\n",
    "#print data.shape\n",
    "#print target.shape\n",
    "#       end_debug ----> \n",
    "\n",
    "\n",
    "# 学習用データをN個、検証用データを残りの個数と設定\n",
    "# Nの値は暫定的なもの\n",
    "#N = 300\n",
    "#x_train, x_test = np.split( data, [N])  \n",
    "#y_train, y_test = np.split( target, [N]) \n",
    "#N_test = y_test.size\n",
    "#print data\n",
    "#print target\n",
    "\n",
    "#pre_list = []\n"
   ]
  },
  {
   "cell_type": "code",
   "execution_count": 30,
   "metadata": {
    "collapsed": false
   },
   "outputs": [
    {
     "name": "stdout",
     "output_type": "stream",
     "text": [
      "\n",
      "==================================================\n",
      "accuracy\n",
      "==================================================\n",
      "\n",
      "+ ベストパラメータ:\n",
      "\n",
      "RandomForestClassifier(bootstrap=True, class_weight=None, criterion='gini',\n",
      "            max_depth=None, max_features=11, max_leaf_nodes=None,\n",
      "            min_samples_leaf=1, min_samples_split=2,\n",
      "            min_weight_fraction_leaf=0.0, n_estimators=8, n_jobs=1,\n",
      "            oob_score=False, random_state=None, verbose=0,\n",
      "            warm_start=False)\n",
      "\n",
      "+ CVした時の平均スコア:\n",
      "\n",
      "0.948 (+/- 0.008) for {'max_features': 11, 'min_samples_split': 2, 'criterion': 'gini', 'n_estimators': 8}\n",
      "0.943 (+/- 0.007) for {'max_features': 11, 'min_samples_split': 2, 'criterion': 'gini', 'n_estimators': 10}\n",
      "\n",
      "==================================================\n",
      "precision\n",
      "==================================================\n",
      "\n",
      "+ ベストパラメータ:\n",
      "\n",
      "RandomForestClassifier(bootstrap=True, class_weight=None, criterion='gini',\n",
      "            max_depth=None, max_features=11, max_leaf_nodes=None,\n",
      "            min_samples_leaf=1, min_samples_split=2,\n",
      "            min_weight_fraction_leaf=0.0, n_estimators=8, n_jobs=1,\n",
      "            oob_score=False, random_state=None, verbose=0,\n",
      "            warm_start=False)\n",
      "\n",
      "+ CVした時の平均スコア:\n",
      "\n",
      "0.918 (+/- 0.000) for {'max_features': 11, 'min_samples_split': 2, 'criterion': 'gini', 'n_estimators': 8}\n",
      "0.911 (+/- 0.003) for {'max_features': 11, 'min_samples_split': 2, 'criterion': 'gini', 'n_estimators': 10}\n",
      "\n",
      "==================================================\n",
      "recall\n",
      "==================================================\n",
      "\n",
      "+ ベストパラメータ:\n",
      "\n",
      "RandomForestClassifier(bootstrap=True, class_weight=None, criterion='gini',\n",
      "            max_depth=None, max_features=11, max_leaf_nodes=None,\n",
      "            min_samples_leaf=1, min_samples_split=2,\n",
      "            min_weight_fraction_leaf=0.0, n_estimators=10, n_jobs=1,\n",
      "            oob_score=False, random_state=None, verbose=0,\n",
      "            warm_start=False)\n",
      "\n",
      "+ CVした時の平均スコア:\n",
      "\n",
      "0.967 (+/- 0.007) for {'max_features': 11, 'min_samples_split': 2, 'criterion': 'gini', 'n_estimators': 8}\n",
      "0.972 (+/- 0.014) for {'max_features': 11, 'min_samples_split': 2, 'criterion': 'gini', 'n_estimators': 10}\n"
     ]
    }
   ],
   "source": [
    "## トレーニングデータとテストデータに分割．\n",
    "X_train, X_test, y_train, y_test = train_test_split(\n",
    "    data, target, test_size=0.25, random_state=43)\n",
    "\n",
    "#print X_train,y_test\n",
    "\n",
    "\n",
    "## チューニングパラメータ\n",
    "tuned_parameters = { 'criterion' : ['gini', 'entropy'],\n",
    "                     'n_estimators': [6, 8, 10],\n",
    "                     'max_features': [4,5,6,7,8],\n",
    "                     'min_samples_split': [2]\n",
    "                   }\n",
    "\n",
    "scores = ['accuracy', 'precision', 'recall']\n",
    "\n",
    "for score in scores:\n",
    "    print '\\n' + '='*50\n",
    "    print score\n",
    "    print '='*50\n",
    "\n",
    "    clf = GridSearchCV(RandomForestClassifier(), tuned_parameters, scoring=score, n_jobs=-1)\n",
    "    #clf.fit(X_train, y_train)\n",
    "    clf.fit(data, target)\n",
    "    \n",
    "    print \"\\n+ ベストパラメータ:\\n\"\n",
    "    #print clf.feature_importances_\n",
    "    print clf.best_estimator_\n",
    "\n",
    "    print\"\\n+ CVした時の平均スコア:\\n\"\n",
    "    for params, mean_score, all_scores in clf.grid_scores_:\n",
    "        print \"{:.3f} (+/- {:.3f}) for {}\".format(mean_score, all_scores.std() / 2, params)\n",
    "\n",
    "    #print \"\\n+ テストデータでの識別結果:\\n\"\n",
    "    #y_true, y_pred = y_test, clf.predict(X_test)\n",
    "    #clf2 = clf.best_estimator_\n",
    "    #print classification_report(y_true, y_pred)\n",
    "    \n",
    "    "
   ]
  },
  {
   "cell_type": "code",
   "execution_count": null,
   "metadata": {
    "collapsed": false
   },
   "outputs": [],
   "source": []
  },
  {
   "cell_type": "code",
   "execution_count": null,
   "metadata": {
    "collapsed": false
   },
   "outputs": [],
   "source": []
  },
  {
   "cell_type": "code",
   "execution_count": null,
   "metadata": {
    "collapsed": false
   },
   "outputs": [],
   "source": []
  },
  {
   "cell_type": "code",
   "execution_count": null,
   "metadata": {
    "collapsed": true
   },
   "outputs": [],
   "source": []
  }
 ],
 "metadata": {
  "kernelspec": {
   "display_name": "Python 2",
   "language": "python",
   "name": "python2"
  },
  "language_info": {
   "codemirror_mode": {
    "name": "ipython",
    "version": 2
   },
   "file_extension": ".py",
   "mimetype": "text/x-python",
   "name": "python",
   "nbconvert_exporter": "python",
   "pygments_lexer": "ipython2",
   "version": "2.7.10"
  }
 },
 "nbformat": 4,
 "nbformat_minor": 0
}
