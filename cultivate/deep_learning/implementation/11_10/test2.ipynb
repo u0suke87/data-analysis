{
 "cells": [
  {
   "cell_type": "code",
   "execution_count": 1,
   "metadata": {
    "collapsed": true
   },
   "outputs": [],
   "source": [
    "%matplotlib inline\n",
    "import numpy as np\n",
    "import matplotlib.pyplot as plt\n",
    "from chainer import cuda, Variable, FunctionSet, optimizers\n",
    "import chainer.functions as F\n",
    "import sys\n",
    "import csv\n",
    "from pprint import pprint \n",
    "\n",
    "plt.style.use('ggplot')"
   ]
  },
  {
   "cell_type": "code",
   "execution_count": 2,
   "metadata": {
    "collapsed": false
   },
   "outputs": [],
   "source": [
    "# 確率的勾配降下法におけるミニバッチ数\n",
    "batchsize = 50\n",
    "\n",
    "# 学習の繰り返し回数\n",
    "n_epoch = 20\n",
    "\n",
    "# 中間層の数\n",
    "n_units = 4\n",
    "\n",
    "\n",
    "#=================================================\n",
    "# csvファイルからデータを取り出し、listに格納\n",
    "def set_data():\n",
    "\n",
    "        filename = \"../../../data/misyo/data_standardized\"\n",
    "        \n",
    "        f = open('%s.csv' % filename, 'rU')\n",
    "        data = csv.reader(f)\n",
    "\n",
    "        data_set = []\n",
    "        target_set = []\n",
    "        for line in data:\n",
    "                data_set.append(line[1:3])\n",
    "                target_set.append(line[4])\n",
    "        f.close()\n",
    "        np_dataSet = np.array(data_set, dtype=np.float32)\n",
    "        np_targetSet = np.array(target_set, dtype=np.int32)\n",
    "        return np_dataSet, np_targetSet\n",
    "\n",
    "#=================================================\n",
    "\n",
    "data, target = set_data()\n",
    "\n",
    "# <!--- start_debug\n",
    "#print data.shape\n",
    "#print target.shape\n",
    "#       end_debug ----> \n",
    "\n",
    "\n",
    "# 学習用データをN個、検証用データを残りの個数と設定\n",
    "# Nの値は暫定的なもの\n",
    "N = 1200\n",
    "x_train, x_test = np.split( data, [N])  \n",
    "y_train, y_test = np.split( target, [N]) \n",
    "N_test = y_test.size\n",
    "#print data\n",
    "#print target\n",
    "\n"
   ]
  },
  {
   "cell_type": "code",
   "execution_count": 3,
   "metadata": {
    "collapsed": true
   },
   "outputs": [],
   "source": [
    "# 多層パーセプトロンモデルの設定\n",
    "# 入力 2次元、出力 2次元\n",
    "model = FunctionSet(l1=F.Linear(2, n_units),\n",
    "                    l2=F.Linear(n_units, 2))\n",
    "\n",
    "# Neural net architecture\n",
    "# ニューラルネットの構造\n",
    "def forward(x_data, y_data, train=True ):\n",
    "        x, t = Variable(x_data), Variable(y_data)\n",
    "        h1 = F.dropout(F.relu(model.l1(x)), ratio=.0, train=train)\n",
    "        y = model.l2(h1)\n",
    "        # 0/1の2クラス分類なので誤差関数として、ソフトマックス関数\n",
    "        # を用いて、誤差を導出\n",
    "        return F.softmax_cross_entropy(y, t), F.accuracy(y, t)\n",
    "\n"
   ]
  },
  {
   "cell_type": "code",
   "execution_count": 4,
   "metadata": {
    "collapsed": false
   },
   "outputs": [],
   "source": [
    "# Setup optimizer\n",
    "optimizer = optimizers.Adam()\n",
    "optimizer.setup(model)\n",
    "\n",
    "train_loss = []\n",
    "train_acc= []\n",
    "test_loss = []\n",
    "test_acc = []\n",
    "\n",
    "l1_W = np.array('1')\n",
    "l2_W = []\n",
    "\n"
   ]
  },
  {
   "cell_type": "code",
   "execution_count": 5,
   "metadata": {
    "collapsed": false
   },
   "outputs": [
    {
     "name": "stdout",
     "output_type": "stream",
     "text": [
      "epoch 1\n",
      "train mean loss=0.722192645073, accuracy=0.454166656981\n",
      "test  mean loss=0.699064648429, accuracy=0.559883718343\n",
      "epoch 2\n",
      "train mean loss=0.700095050037, accuracy=0.492499999702\n",
      "test  mean loss=0.678497252538, accuracy=0.653294580158\n",
      "epoch 3\n",
      "train mean loss=0.68079038461, accuracy=0.583333339542\n",
      "test  mean loss=0.659622998201, accuracy=0.733914731085\n",
      "epoch 4\n",
      "train mean loss=0.663079212109, accuracy=0.655000003676\n",
      "test  mean loss=0.641959850178, accuracy=0.781395347543\n",
      "epoch 5\n",
      "train mean loss=0.646620206535, accuracy=0.70666667074\n",
      "test  mean loss=0.62503193238, accuracy=0.808527127717\n",
      "epoch 6\n",
      "train mean loss=0.63112132748, accuracy=0.735000001887\n",
      "test  mean loss=0.60895688543, accuracy=0.827325582504\n",
      "epoch 7\n",
      "train mean loss=0.616147880753, accuracy=0.752500000099\n",
      "test  mean loss=0.593781288742, accuracy=0.830426354741\n",
      "epoch 8\n",
      "train mean loss=0.602148629725, accuracy=0.761666662991\n",
      "test  mean loss=0.578465824441, accuracy=0.833527126978\n",
      "epoch 9\n",
      "train mean loss=0.588686145842, accuracy=0.759166665375\n",
      "test  mean loss=0.564985162066, accuracy=0.843604639057\n",
      "epoch 10\n",
      "train mean loss=0.57546189179, accuracy=0.758333330353\n",
      "test  mean loss=0.552151392597, accuracy=0.845930220545\n",
      "epoch 11\n",
      "train mean loss=0.563487139841, accuracy=0.759166662892\n",
      "test  mean loss=0.539274771315, accuracy=0.848449600297\n",
      "epoch 12\n",
      "train mean loss=0.552299079796, accuracy=0.76416666309\n",
      "test  mean loss=0.528894560051, accuracy=0.847093014754\n",
      "epoch 13\n",
      "train mean loss=0.541514522086, accuracy=0.769999998311\n",
      "test  mean loss=0.518322702526, accuracy=0.84651161996\n",
      "epoch 14\n",
      "train mean loss=0.531855672598, accuracy=0.772499998411\n",
      "test  mean loss=0.508503048688, accuracy=0.844767430956\n",
      "epoch 15\n",
      "train mean loss=0.523441631347, accuracy=0.771666653454\n",
      "test  mean loss=0.49893648703, accuracy=0.84651162227\n",
      "epoch 16\n",
      "train mean loss=0.515505882601, accuracy=0.7708333383\n",
      "test  mean loss=0.492772983257, accuracy=0.84573642459\n",
      "epoch 17\n",
      "train mean loss=0.508525766432, accuracy=0.773333330949\n",
      "test  mean loss=0.48658382985, accuracy=0.842635652354\n",
      "epoch 18\n",
      "train mean loss=0.502945272873, accuracy=0.775833336016\n",
      "test  mean loss=0.480201036431, accuracy=0.838759682437\n",
      "epoch 19\n",
      "train mean loss=0.49739647905, accuracy=0.776666666071\n",
      "test  mean loss=0.475963726062, accuracy=0.837984489378\n",
      "epoch 20\n",
      "train mean loss=0.493106155346, accuracy=0.77666665862\n",
      "test  mean loss=0.472276171511, accuracy=0.836434100949\n"
     ]
    },
    {
     "data": {
      "text/plain": [
       "[]"
      ]
     },
     "execution_count": 5,
     "metadata": {},
     "output_type": "execute_result"
    },
    {
     "data": {
      "image/png": "[encoded data removed]",
      "text/plain": [
       "<matplotlib.figure.Figure at 0x10638e050>"
      ]
     },
     "metadata": {},
     "output_type": "display_data"
    }
   ],
   "source": [
    "# Learning loop\n",
    "for epoch in xrange(1, n_epoch+1):\n",
    "        print 'epoch', epoch\n",
    "\n",
    "        # training\n",
    "        # N個の順番をランダムに並び替える\n",
    "        perm = np.random.permutation(N)\n",
    "        sum_accuracy = 0\n",
    "        sum_loss = 0\n",
    "        # 0〜Nまでのデータをバッチサイズごとに使って学習\n",
    "        for i in xrange(0, N, batchsize):\n",
    "                x_batch = x_train[perm[i:i+batchsize]]\n",
    "                y_batch = y_train[perm[i:i+batchsize]]\n",
    "\n",
    "                # 勾配を初期化\n",
    "                optimizer.zero_grads()\n",
    "                # 順伝播させて誤差と精度を算出\n",
    "                loss, acc = forward(x_batch, y_batch)\n",
    "                # 誤差逆伝播で勾配を計算\n",
    "                loss.backward()\n",
    "                optimizer.update()\n",
    "                \n",
    "                sum_loss += float(cuda.to_cpu(loss.data)) * batchsize\n",
    "                sum_accuracy += float(cuda.to_cpu(acc.data)) * batchsize\n",
    "\n",
    "        # 訓練データの誤差と、正解精度を表示\n",
    "        print 'train mean loss={}, accuracy={}'.format(sum_loss / N, sum_accuracy / N)\n",
    "                \n",
    "        train_loss.append(sum_loss / N)\n",
    "        train_acc.append(sum_accuracy / N)\n",
    "\n",
    "\n",
    "        # evaluation\n",
    "        # テストデータで誤差と、正解精度を算出し汎化性能を確認\n",
    "        sum_accuracy = 0\n",
    "        sum_loss     = 0\n",
    "        for i in xrange(0, N_test, batchsize):\n",
    "                x_batch = x_test[i:i+batchsize]\n",
    "                y_batch = y_test[i:i+batchsize]\n",
    "\n",
    "                # 順伝播させて誤差と精度を算出\n",
    "                loss, acc = forward(x_batch, y_batch, train=False)\n",
    "          \n",
    "\n",
    "\n",
    "                sum_loss     += float(cuda.to_cpu(loss.data)) * batchsize\n",
    "                sum_accuracy += float(cuda.to_cpu(acc.data)) * batchsize\n",
    "\n",
    "        # テストデータでの誤差と、正解精度を表示\n",
    "        print 'test  mean loss={}, accuracy={}'.format(sum_loss / N_test, sum_accuracy / N_test)\n",
    "        test_loss.append( sum_loss / N_test)\n",
    "        test_acc.append( sum_accuracy / N_test)\n",
    "        \n",
    "\n",
    "        \n",
    "        # 学習したパラメーターを保存\n",
    "        #l1_W.append(model.l1.W)\n",
    "        l2_W.append(model.l2.W)\n",
    "        \n",
    "        l1_W = np.append( l1_W, model.l1.W)\n",
    "        \n",
    "                      \n",
    "        #pprint(vars(model.l1))\n",
    "        #pprint(model.l1.W[0:2])\n",
    "\n",
    "        # 精度と誤差をグラフ描画\n",
    "plt.figure(figsize=(8,6))\n",
    "plt.plot(range(len(train_acc)), train_acc)\n",
    "plt.plot(range(len(test_acc)), test_acc)\n",
    "plt.legend([\"train_acc\",\"test_acc\"],loc=4)\n",
    "plt.title(\"Accuracy of classification.\")\n",
    "plt.plot()\n"
   ]
  },
  {
   "cell_type": "code",
   "execution_count": 6,
   "metadata": {
    "collapsed": false
   },
   "outputs": [
    {
     "name": "stdout",
     "output_type": "stream",
     "text": [
      "['1' '0.243385180831' '0.633278667927' '0.083005733788' '-0.404107242823'\n",
      " '-0.382405668497' '-0.684236109257' '-0.367535293102' '0.366420418024'\n",
      " '0.266745388508' '0.656232178211' '0.0580128617585' '-0.427050560713'\n",
      " '-0.360159337521' '-0.662854909897' '-0.345684528351' '0.387699157'\n",
      " '0.291274547577' '0.680039644241' '0.032618522644' '-0.449179619551'\n",
      " '-0.3397962749' '-0.643511593342' '-0.326059877872' '0.406973153353'\n",
      " '0.316075742245' '0.704254984856' '0.00700184842572' '-0.471299737692'\n",
      " '-0.321260869503' '-0.625698804855' '-0.30850148201' '0.423967003822'\n",
      " '0.341537803411' '0.728143811226' '-0.0188980810344' '-0.493013232946'\n",
      " '-0.304453223944' '-0.60915851593' '-0.2931676507' '0.440147817135'\n",
      " '0.367482960224' '0.752617657185' '-0.0441642738879' '-0.515438616276'\n",
      " '-0.289246559143' '-0.59405195713' '-0.278919935226' '0.455035299063'\n",
      " '0.393154084682' '0.776309192181' '-0.0697188898921' '-0.536412596703'\n",
      " '-0.274951040745' '-0.581080555916' '-0.265155315399' '0.470089375973'\n",
      " '0.418795973063' '0.798907339573' '-0.0950097367167' '-0.559918165207'\n",
      " '-0.261676341295' '-0.567978441715' '-0.252422958612' '0.483478695154'\n",
      " '0.445606380701' '0.822562277317' '-0.119528219104' '-0.581235349178'\n",
      " '-0.250277519226' '-0.556620001793' '-0.240648061037' '0.498101711273'\n",
      " '0.471496134996' '0.843897223473' '-0.142694234848' '-0.600748896599'\n",
      " '-0.240588262677' '-0.546771526337' '-0.229030415416' '0.511734187603'\n",
      " '0.496006637812' '0.862904191017' '-0.166551008821' '-0.62182945013'\n",
      " '-0.230972737074' '-0.536321759224' '-0.216635510325' '0.526471972466'\n",
      " '0.521796107292' '0.880719065666' '-0.189985722303' '-0.640136539936'\n",
      " '-0.222697719932' '-0.527794122696' '-0.205200061202' '0.540575563908'\n",
      " '0.545540988445' '0.896420061588' '-0.212817013264' '-0.657727360725'\n",
      " '-0.214821994305' '-0.52008330822' '-0.192644059658' '0.554651677608'\n",
      " '0.568671941757' '0.911786019802' '-0.234353974462' '-0.674435913563'\n",
      " '-0.20789848268' '-0.513281404972' '-0.180250808597' '0.568726539612'\n",
      " '0.591469883919' '0.926759839058' '-0.255740314722' '-0.69096493721'\n",
      " '-0.201852753758' '-0.507115960121' '-0.168326854706' '0.582447230816'\n",
      " '0.613715469837' '0.938889443874' '-0.276389271021' '-0.702557563782'\n",
      " '-0.196416482329' '-0.502279400826' '-0.157552555203' '0.595365226269'\n",
      " '0.633620738983' '0.947735190392' '-0.295611292124' '-0.714488625526'\n",
      " '-0.191790521145' '-0.497652858496' '-0.14893566072' '0.605781853199'\n",
      " '0.654582500458' '0.957810938358' '-0.316163480282' '-0.726941227913'\n",
      " '-0.187058389187' '-0.493125885725' '-0.13949021697' '0.617025911808'\n",
      " '0.672524631023' '0.965767502785' '-0.332992434502' '-0.73498237133'\n",
      " '-0.183183088899' '-0.489486634731' '-0.130915731192' '0.627205550671'\n",
      " '0.69221675396' '0.971496582031' '-0.351207494736' '-0.742040991783'\n",
      " '-0.17986613512' '-0.486464291811' '-0.122015707195' '0.637411355972']\n"
     ]
    }
   ],
   "source": [
    "# 学習したパラメータを出力\n",
    "print l1_W\n",
    "\n",
    "#print l2_W\n",
    "#print l3_W"
   ]
  },
  {
   "cell_type": "code",
   "execution_count": 8,
   "metadata": {
    "collapsed": false
   },
   "outputs": [
    {
     "name": "stdout",
     "output_type": "stream",
     "text": [
      "{'W': array([[ 0.69221675,  0.97149658],\n",
      "       [-0.35120749, -0.74204099],\n",
      "       [-0.17986614, -0.48646429],\n",
      "       [-0.12201571,  0.63741136]], dtype=float32),\n",
      " 'b': array([ 0.41029909,  0.29600775, -0.2109804 , -0.00146954], dtype=float32),\n",
      " 'gW': array([[-0.02851585, -0.01814253],\n",
      "       [ 0.06960598,  0.04130198],\n",
      "       [-0.00750261, -0.00472702],\n",
      "       [-0.03389475, -0.01394051]], dtype=float32),\n",
      " 'gb': array([-0.01186311, -0.13013972,  0.01142588, -0.01415433], dtype=float32)}\n",
      "{'W': array([[-1.0924716 ,  1.10244846,  0.2408329 , -0.24381626],\n",
      "       [ 0.33471557, -0.44035417,  0.45139486,  0.75798011]], dtype=float32),\n",
      " 'b': array([ 0.02525388, -0.02525389], dtype=float32),\n",
      " 'gW': array([[ 0.02959166, -0.06065036, -0.00589033,  0.00470932],\n",
      "       [-0.02959165,  0.06065036,  0.00589033, -0.00470932]], dtype=float32),\n",
      " 'gb': array([-0.05731631,  0.05731632], dtype=float32)}\n"
     ]
    }
   ],
   "source": [
    "pprint(vars(model.l1))\n",
    "pprint(vars(model.l2))"
   ]
  },
  {
   "cell_type": "code",
   "execution_count": null,
   "metadata": {
    "collapsed": true
   },
   "outputs": [],
   "source": []
  }
 ],
 "metadata": {
  "kernelspec": {
   "display_name": "Python 2",
   "language": "python",
   "name": "python2"
  },
  "language_info": {
   "codemirror_mode": {
    "name": "ipython",
    "version": 2
   },
   "file_extension": ".py",
   "mimetype": "text/x-python",
   "name": "python",
   "nbconvert_exporter": "python",
   "pygments_lexer": "ipython2",
   "version": "2.7.10"
  }
 },
 "nbformat": 4,
 "nbformat_minor": 0
}
