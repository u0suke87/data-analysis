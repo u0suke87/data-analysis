{
 "cells": [
  {
   "cell_type": "code",
   "execution_count": 26,
   "metadata": {
    "collapsed": true
   },
   "outputs": [],
   "source": [
    "%matplotlib inline\n",
    "import numpy as np\n",
    "import matplotlib.pyplot as plt\n",
    "from chainer import cuda, Variable, FunctionSet, optimizers\n",
    "import chainer.functions as F\n",
    "import sys\n",
    "import csv\n",
    "from pprint import pprint \n",
    "\n",
    "plt.style.use('ggplot')"
   ]
  },
  {
   "cell_type": "code",
   "execution_count": 27,
   "metadata": {
    "collapsed": false
   },
   "outputs": [],
   "source": [
    "# 確率的勾配降下法におけるミニバッチ数\n",
    "batchsize = 50\n",
    "\n",
    "# 学習の繰り返し回数\n",
    "n_epoch = 20\n",
    "\n",
    "# 中間層の数\n",
    "n_units = 4\n",
    "\n",
    "\n",
    "#=================================================\n",
    "# csvファイルからデータを取り出し、listに格納\n",
    "def set_data():\n",
    "\n",
    "        filename = \"../../../data/misyo/data_standardized\"\n",
    "        \n",
    "        f = open('%s.csv' % filename, 'rU')\n",
    "        data = csv.reader(f)\n",
    "\n",
    "        data_set = []\n",
    "        target_set = []\n",
    "        for line in data:\n",
    "                data_set.append(line[1:3])\n",
    "                target_set.append(line[4])\n",
    "        f.close()\n",
    "        np_dataSet = np.array(data_set, dtype=np.float32)\n",
    "        np_targetSet = np.array(target_set, dtype=np.int32)\n",
    "        return np_dataSet, np_targetSet\n",
    "\n",
    "#=================================================\n",
    "\n",
    "data, target = set_data()\n",
    "\n",
    "# <!--- start_debug\n",
    "#print data.shape\n",
    "#print target.shape\n",
    "#       end_debug ----> \n",
    "\n",
    "\n",
    "# 学習用データをN個、検証用データを残りの個数と設定\n",
    "# Nの値は暫定的なもの\n",
    "N = 1200\n",
    "x_train, x_test = np.split( data, [N])  \n",
    "y_train, y_test = np.split( target, [N]) \n",
    "N_test = y_test.size\n",
    "#print data\n",
    "#print target\n",
    "\n"
   ]
  },
  {
   "cell_type": "code",
   "execution_count": 28,
   "metadata": {
    "collapsed": true
   },
   "outputs": [],
   "source": [
    "# 多層パーセプトロンモデルの設定\n",
    "# 入力 2次元、出力 2次元\n",
    "model = FunctionSet(l1=F.Linear(2, n_units),\n",
    "                    l2=F.Linear(n_units, n_units),\n",
    "                    l3=F.Linear(n_units, 2))\n",
    "\n",
    "# Neural net architecture\n",
    "# ニューラルネットの構造\n",
    "def forward(x_data, y_data, train=True ):\n",
    "        x, t = Variable(x_data), Variable(y_data)\n",
    "        h1 = F.dropout(F.relu(model.l1(x)), ratio=.0, train=train)\n",
    "        h2 = F.dropout(F.relu(model.l2(h1)), ratio=.0, train=train)\n",
    "        y = model.l3(h2)\n",
    "        # 0/1の2クラス分類なので誤差関数として、ソフトマックス関数\n",
    "        # を用いて、誤差を導出\n",
    "        return F.softmax_cross_entropy(y, t), F.accuracy(y, t)\n",
    "\n"
   ]
  },
  {
   "cell_type": "code",
   "execution_count": 29,
   "metadata": {
    "collapsed": false
   },
   "outputs": [],
   "source": [
    "# Setup optimizer\n",
    "optimizer = optimizers.Adam()\n",
    "optimizer.setup(model)\n",
    "\n",
    "train_loss = []\n",
    "train_acc= []\n",
    "test_loss = []\n",
    "test_acc = []\n",
    "\n",
    "l1_W = np.array('1')\n",
    "l2_W = []\n",
    "l3_W = []\n",
    "\n"
   ]
  },
  {
   "cell_type": "code",
   "execution_count": 30,
   "metadata": {
    "collapsed": false
   },
   "outputs": [
    {
     "name": "stdout",
     "output_type": "stream",
     "text": [
      "epoch 1\n",
      "train mean loss=0.645430328945, accuracy=0.518333333234\n",
      "test  mean loss=0.648901032847, accuracy=0.583914727435\n",
      "epoch 2\n",
      "train mean loss=0.611342390378, accuracy=0.616666669647\n",
      "test  mean loss=0.614220259726, accuracy=0.658139536778\n",
      "epoch 3\n",
      "train mean loss=0.583392200371, accuracy=0.710833335916\n",
      "test  mean loss=0.582662284836, accuracy=0.761821699697\n",
      "epoch 4\n",
      "train mean loss=0.558359024425, accuracy=0.77083333085\n",
      "test  mean loss=0.556854495938, accuracy=0.793992239375\n",
      "epoch 5\n",
      "train mean loss=0.537813428789, accuracy=0.782499996324\n",
      "test  mean loss=0.532319918852, accuracy=0.799612400606\n",
      "epoch 6\n",
      "train mean loss=0.518719986081, accuracy=0.786666661501\n",
      "test  mean loss=0.515479038852, accuracy=0.794379840526\n",
      "epoch 7\n",
      "train mean loss=0.504036571831, accuracy=0.790833329161\n",
      "test  mean loss=0.502057045467, accuracy=0.793604647466\n",
      "epoch 8\n",
      "train mean loss=0.492811246465, accuracy=0.789999994139\n",
      "test  mean loss=0.493855861037, accuracy=0.792054259038\n",
      "epoch 9\n",
      "train mean loss=0.484136876961, accuracy=0.7891666616\n",
      "test  mean loss=0.483304802762, accuracy=0.792054259038\n",
      "epoch 10\n",
      "train mean loss=0.476996447891, accuracy=0.789999999106\n",
      "test  mean loss=0.480359812347, accuracy=0.78972867755\n",
      "epoch 11\n",
      "train mean loss=0.472084339708, accuracy=0.786666663984\n",
      "test  mean loss=0.476886462565, accuracy=0.78972867755\n",
      "epoch 12\n",
      "train mean loss=0.468920518955, accuracy=0.78749999404\n",
      "test  mean loss=0.474786504295, accuracy=0.790503870609\n",
      "epoch 13\n",
      "train mean loss=0.466731221726, accuracy=0.787499996523\n",
      "test  mean loss=0.474541887294, accuracy=0.788953482181\n",
      "epoch 14\n",
      "train mean loss=0.465049292892, accuracy=0.784999991457\n",
      "test  mean loss=0.47661874761, accuracy=0.787403096062\n",
      "epoch 15\n",
      "train mean loss=0.463993264983, accuracy=0.786666666468\n",
      "test  mean loss=0.474744581206, accuracy=0.788953482181\n",
      "epoch 16\n",
      "train mean loss=0.463369578123, accuracy=0.786666661501\n",
      "test  mean loss=0.47360365705, accuracy=0.788953484491\n",
      "epoch 17\n",
      "train mean loss=0.462878021101, accuracy=0.787499999007\n",
      "test  mean loss=0.477455971084, accuracy=0.788953482181\n",
      "epoch 18\n",
      "train mean loss=0.46249644955, accuracy=0.787499999007\n",
      "test  mean loss=0.476006594046, accuracy=0.788953484491\n",
      "epoch 19\n",
      "train mean loss=0.461920958012, accuracy=0.78750000149\n",
      "test  mean loss=0.478270240994, accuracy=0.785658907059\n",
      "epoch 20\n",
      "train mean loss=0.461596695085, accuracy=0.786666668952\n",
      "test  mean loss=0.475977731999, accuracy=0.785465111104\n"
     ]
    },
    {
     "data": {
      "text/plain": [
       "[]"
      ]
     },
     "execution_count": 30,
     "metadata": {},
     "output_type": "execute_result"
    },
    {
     "data": {
      "image/png": "[encoded data removed]",
      "text/plain": [
       "<matplotlib.figure.Figure at 0x106664c90>"
      ]
     },
     "metadata": {},
     "output_type": "display_data"
    }
   ],
   "source": [
    "# Learning loop\n",
    "for epoch in xrange(1, n_epoch+1):\n",
    "        print 'epoch', epoch\n",
    "\n",
    "        # training\n",
    "        # N個の順番をランダムに並び替える\n",
    "        perm = np.random.permutation(N)\n",
    "        sum_accuracy = 0\n",
    "        sum_loss = 0\n",
    "        # 0〜Nまでのデータをバッチサイズごとに使って学習\n",
    "        for i in xrange(0, N, batchsize):\n",
    "                x_batch = x_train[perm[i:i+batchsize]]\n",
    "                y_batch = y_train[perm[i:i+batchsize]]\n",
    "\n",
    "                # 勾配を初期化\n",
    "                optimizer.zero_grads()\n",
    "                # 順伝播させて誤差と精度を算出\n",
    "                loss, acc = forward(x_batch, y_batch)\n",
    "                # 誤差逆伝播で勾配を計算\n",
    "                loss.backward()\n",
    "                optimizer.update()\n",
    "                \n",
    "                sum_loss += float(cuda.to_cpu(loss.data)) * batchsize\n",
    "                sum_accuracy += float(cuda.to_cpu(acc.data)) * batchsize\n",
    "\n",
    "        # 訓練データの誤差と、正解精度を表示\n",
    "        print 'train mean loss={}, accuracy={}'.format(sum_loss / N, sum_accuracy / N)\n",
    "                \n",
    "        train_loss.append(sum_loss / N)\n",
    "        train_acc.append(sum_accuracy / N)\n",
    "\n",
    "\n",
    "        # evaluation\n",
    "        # テストデータで誤差と、正解精度を算出し汎化性能を確認\n",
    "        sum_accuracy = 0\n",
    "        sum_loss     = 0\n",
    "        for i in xrange(0, N_test, batchsize):\n",
    "                x_batch = x_test[i:i+batchsize]\n",
    "                y_batch = y_test[i:i+batchsize]\n",
    "\n",
    "                # 順伝播させて誤差と精度を算出\n",
    "                loss, acc = forward(x_batch, y_batch, train=False)\n",
    "          \n",
    "\n",
    "\n",
    "                sum_loss     += float(cuda.to_cpu(loss.data)) * batchsize\n",
    "                sum_accuracy += float(cuda.to_cpu(acc.data)) * batchsize\n",
    "\n",
    "        # テストデータでの誤差と、正解精度を表示\n",
    "        print 'test  mean loss={}, accuracy={}'.format(sum_loss / N_test, sum_accuracy / N_test)\n",
    "        test_loss.append( sum_loss / N_test)\n",
    "        test_acc.append( sum_accuracy / N_test)\n",
    "        \n",
    "\n",
    "        \n",
    "        # 学習したパラメーターを保存\n",
    "        #l1_W.append(model.l1.W)\n",
    "        l2_W.append(model.l2.W)\n",
    "        l3_W.append(model.l3.W)\n",
    "        \n",
    "        l1_W = np.append( l1_W, model.l1.W)\n",
    "        \n",
    "                      \n",
    "        #pprint(vars(model.l1))\n",
    "        #pprint(model.l1.W[0:2])\n",
    "\n",
    "        # 精度と誤差をグラフ描画\n",
    "plt.figure(figsize=(8,6))\n",
    "plt.plot(range(len(train_acc)), train_acc)\n",
    "plt.plot(range(len(test_acc)), test_acc)\n",
    "plt.legend([\"train_acc\",\"test_acc\"],loc=4)\n",
    "plt.title(\"Accuracy of classification.\")\n",
    "plt.plot()\n"
   ]
  },
  {
   "cell_type": "code",
   "execution_count": 32,
   "metadata": {
    "collapsed": false
   },
   "outputs": [
    {
     "name": "stdout",
     "output_type": "stream",
     "text": [
      "['1' '0.76402926445' '-0.151047363877' '1.54851984978' '1.58456599712'\n",
      " '-0.203131169081' '-0.795029342175' '-1.34399116039' '-0.959085702896'\n",
      " '0.743932306767' '-0.170784682035' '1.57655441761' '1.60542416573'\n",
      " '-0.223172053695' '-0.8119135499' '-1.36384785175' '-0.974154889584'\n",
      " '0.725794434547' '-0.188770934939' '1.60806274414' '1.63890266418'\n",
      " '-0.243168398738' '-0.827261924744' '-1.38412594795' '-0.989268183708'\n",
      " '0.71069008112' '-0.204190015793' '1.64021623135' '1.67406523228'\n",
      " '-0.257964462042' '-0.840009391308' '-1.3997528553' '-1.00379514694'\n",
      " '0.697593986988' '-0.22104151547' '1.67254471779' '1.70953667164'\n",
      " '-0.274872243404' '-0.851290106773' '-1.41892659664' '-1.01639914513'\n",
      " '0.687832653522' '-0.236526787281' '1.70246446133' '1.7420347929'\n",
      " '-0.288199722767' '-0.857875704765' '-1.43479812145' '-1.02351558208'\n",
      " '0.680251002312' '-0.250966966152' '1.73063921928' '1.77081656456'\n",
      " '-0.29885327816' '-0.862981557846' '-1.44871211052' '-1.03035533428'\n",
      " '0.673786818981' '-0.263810157776' '1.75684332848' '1.80022203922'\n",
      " '-0.306674838066' '-0.866711676121' '-1.46024382114' '-1.0344389677'\n",
      " '0.669661998749' '-0.274566948414' '1.78094518185' '1.82455921173'\n",
      " '-0.314834415913' '-0.869672775269' '-1.47351813316' '-1.03965353966'\n",
      " '0.667657256126' '-0.284644365311' '1.80191159248' '1.84608376026'\n",
      " '-0.319224447012' '-0.870461642742' '-1.48198759556' '-1.04267919064'\n",
      " '0.667080700397' '-0.291429311037' '1.81677675247' '1.86632311344'\n",
      " '-0.324530750513' '-0.871578991413' '-1.49135351181' '-1.04502236843'\n",
      " '0.66597789526' '-0.30035290122' '1.83376765251' '1.88405871391'\n",
      " '-0.327598124743' '-0.870190739632' '-1.49916923046' '-1.04532933235'\n",
      " '0.667639970779' '-0.309020489454' '1.84344661236' '1.90028905869'\n",
      " '-0.331028670073' '-0.870038747787' '-1.50659012794' '-1.04662632942'\n",
      " '0.666854083538' '-0.314332783222' '1.85103178024' '1.91596400738'\n",
      " '-0.328139156103' '-0.865801513195' '-1.50750923157' '-1.04496729374'\n",
      " '0.667100131512' '-0.321062922478' '1.85845768452' '1.9282951355'\n",
      " '-0.33167976141' '-0.866268634796' '-1.51422190666' '-1.04387354851'\n",
      " '0.668834745884' '-0.329602360725' '1.86564898491' '1.94016635418'\n",
      " '-0.332271933556' '-0.86297762394' '-1.51898694038' '-1.0401661396'\n",
      " '0.668783545494' '-0.337394595146' '1.86593186855' '1.95201408863'\n",
      " '-0.327999293804' '-0.858712673187' '-1.51733791828' '-1.03665554523'\n",
      " '0.66904258728' '-0.34328904748' '1.86938965321' '1.96263647079'\n",
      " '-0.328192830086' '-0.857675552368' '-1.52014887333' '-1.03561925888'\n",
      " '0.670697927475' '-0.351543515921' '1.86965799332' '1.97353637218'\n",
      " '-0.327178925276' '-0.854123353958' '-1.52174007893' '-1.03132271767'\n",
      " '0.670756578445' '-0.360110342503' '1.86937022209' '1.98478531837'\n",
      " '-0.32683005929' '-0.853410065174' '-1.52372026443' '-1.0297819376']\n"
     ]
    }
   ],
   "source": [
    "# 学習したパラメータを出力\n",
    "print l1_W\n",
    "\n",
    "#print l2_W\n",
    "#print l3_W"
   ]
  },
  {
   "cell_type": "code",
   "execution_count": 34,
   "metadata": {
    "collapsed": false
   },
   "outputs": [
    {
     "name": "stdout",
     "output_type": "stream",
     "text": [
      "{'W': array([[ 0.67075658, -0.36011034],\n",
      "       [ 1.86937022,  1.98478532],\n",
      "       [-0.32683006, -0.85341007],\n",
      "       [-1.52372026, -1.02978194]], dtype=float32),\n",
      " 'b': array([-0.04065826,  0.31251577,  0.18102182,  0.16028963], dtype=float32),\n",
      " 'gW': array([[ 0.00271892,  0.01552649],\n",
      "       [-0.02282235,  0.00226577],\n",
      "       [-0.00088742, -0.00668106],\n",
      "       [ 0.00995978, -0.01220092]], dtype=float32),\n",
      " 'gb': array([ 0.01934317, -0.02534659, -0.00315169,  0.00108118], dtype=float32)}\n",
      "{'W': array([[ 0.03110179,  0.45313156,  0.66528207, -0.5984835 ],\n",
      "       [-1.63883388, -0.0643082 ,  0.85649139,  0.17112835],\n",
      "       [ 0.48958284,  0.46266037,  0.067709  ,  0.19110622],\n",
      "       [ 1.64374232, -0.06135821,  0.15733866,  0.79996759]], dtype=float32),\n",
      " 'b': array([ 0.18531892,  0.0966276 ,  0.20257239, -0.10087274], dtype=float32),\n",
      " 'gW': array([[ -1.45624327e-02,  -5.91204017e-02,  -6.36432180e-03,\n",
      "          3.84675874e-03],\n",
      "       [  8.85189883e-03,  -1.52549278e-02,   1.05648832e-02,\n",
      "         -1.18697621e-03],\n",
      "       [ -9.78777278e-03,  -3.97362895e-02,  -4.96625621e-03,\n",
      "          3.38666840e-04],\n",
      "       [  9.24328808e-03,   3.11961882e-02,   5.97475097e-03,\n",
      "          6.88293949e-06]], dtype=float32),\n",
      " 'gb': array([-0.0374193 , -0.00345141, -0.03088394,  0.03707552], dtype=float32)}\n",
      "{'W': array([[-0.91379571,  0.96951735, -0.30466643,  0.33063814],\n",
      "       [ 0.07771857, -1.36480677,  0.36207253, -0.2957713 ]], dtype=float32),\n",
      " 'b': array([-0.15369986,  0.15369987], dtype=float32),\n",
      " 'gW': array([[ 0.04106176, -0.00214526,  0.04456357,  0.01673517],\n",
      "       [-0.04106176,  0.00214526, -0.04456356, -0.01673517]], dtype=float32),\n",
      " 'gb': array([ 0.04636538, -0.04636537], dtype=float32)}\n"
     ]
    }
   ],
   "source": [
    "pprint(vars(model.l1))\n",
    "pprint(vars(model.l2))\n",
    "pprint(vars(model.l3))"
   ]
  },
  {
   "cell_type": "code",
   "execution_count": null,
   "metadata": {
    "collapsed": true
   },
   "outputs": [],
   "source": []
  }
 ],
 "metadata": {
  "kernelspec": {
   "display_name": "Python 2",
   "language": "python",
   "name": "python2"
  },
  "language_info": {
   "codemirror_mode": {
    "name": "ipython",
    "version": 2
   },
   "file_extension": ".py",
   "mimetype": "text/x-python",
   "name": "python",
   "nbconvert_exporter": "python",
   "pygments_lexer": "ipython2",
   "version": "2.7.10"
  }
 },
 "nbformat": 4,
 "nbformat_minor": 0
}
