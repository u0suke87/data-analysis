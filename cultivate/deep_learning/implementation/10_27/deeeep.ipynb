{
 "cells": [
  {
   "cell_type": "code",
   "execution_count": 35,
   "metadata": {
    "collapsed": true
   },
   "outputs": [],
   "source": [
    "%matplotlib inline\n",
    "import numpy as np\n",
    "import matplotlib.pyplot as plt\n",
    "from chainer import cuda, Variable, FunctionSet, optimizers\n",
    "import chainer.functions as F\n",
    "import sys\n",
    "import csv\n",
    "\n",
    "plt.style.use('ggplot')"
   ]
  },
  {
   "cell_type": "code",
   "execution_count": 36,
   "metadata": {
    "collapsed": false
   },
   "outputs": [],
   "source": [
    "# 確率的勾配降下法におけるミニバッチ数\n",
    "batchsize = 50\n",
    "\n",
    "# 学習の繰り返し回数\n",
    "n_epoch = 20\n",
    "\n",
    "# 中間層の数\n",
    "n_units = 4\n",
    "\n",
    "\n",
    "#=================================================\n",
    "# csvファイルからデータを取り出し、listに格納\n",
    "def set_data():\n",
    "\n",
    "        filename = \"../../../data/misyo/data_standardized\"\n",
    "        \n",
    "        f = open('%s.csv' % filename, 'rU')\n",
    "        data = csv.reader(f)\n",
    "\n",
    "        data_set = []\n",
    "        target_set = []\n",
    "        for line in data:\n",
    "                data_set.append(line[1:4])\n",
    "                target_set.append(line[4])\n",
    "        f.close()\n",
    "        np_dataSet = np.array(data_set, dtype=np.float32)\n",
    "        np_targetSet = np.array(target_set, dtype=np.int32)\n",
    "        return np_dataSet, np_targetSet\n",
    "\n",
    "#=================================================\n",
    "\n",
    "data, target = set_data()\n",
    "\n",
    "# <!--- start_debug\n",
    "#print data.shape\n",
    "#print target.shape\n",
    "#       end_debug ----> \n",
    "\n",
    "\n",
    "# 学習用データをN個、検証用データを残りの個数と設定\n",
    "# Nの値は暫定的なもの\n",
    "N = 1200\n",
    "x_train, x_test = np.split( data, [N])  \n",
    "y_train, y_test = np.split( target, [N]) \n",
    "N_test = y_test.size\n",
    "#print data\n",
    "#print target\n",
    "\n"
   ]
  },
  {
   "cell_type": "code",
   "execution_count": 37,
   "metadata": {
    "collapsed": true
   },
   "outputs": [],
   "source": [
    "# 多層パーセプトロンモデルの設定\n",
    "# 入力 3次元、出力 2次元\n",
    "model = FunctionSet(l1=F.Linear(3, n_units),\n",
    "                    l2=F.Linear(n_units, n_units),\n",
    "                    l3=F.Linear(n_units, n_units),\n",
    "                    l4=F.Linear(n_units, n_units),\n",
    "                    l5=F.Linear(n_units, 2))\n",
    "\n",
    "# Neural net architecture\n",
    "# ニューラルネットの構造\n",
    "def forward(x_data, y_data, train=True ):\n",
    "        x, t = Variable(x_data), Variable(y_data)\n",
    "        h1 = F.dropout(F.relu(model.l1(x)), ratio=.0, train=train)\n",
    "        h2 = F.dropout(F.relu(model.l2(h1)), ratio=.0, train=train)\n",
    "        h3 = F.dropout(F.relu(model.l3(h2)), ratio=.0, train=train)\n",
    "        h4 = F.dropout(F.relu(model.l4(h3)), ratio=.0, train=train)\n",
    "        y = model.l5(h4)\n",
    "        # 0/1の2クラス分類なので誤差関数として、ソフトマックス関数\n",
    "        # を用いて、誤差を導出\n",
    "        return F.softmax_cross_entropy(y, t), F.accuracy(y, t)\n",
    "\n"
   ]
  },
  {
   "cell_type": "code",
   "execution_count": 38,
   "metadata": {
    "collapsed": true
   },
   "outputs": [],
   "source": [
    "# Setup optimizer\n",
    "optimizer = optimizers.Adam()\n",
    "optimizer.setup(model)\n",
    "\n",
    "train_loss = []\n",
    "train_acc= []\n",
    "test_loss = []\n",
    "test_acc = []\n",
    "\n",
    "l1_W = []\n",
    "l2_W = []\n",
    "l3_W = []\n",
    "l4_W = []\n",
    "l5_W = []\n",
    "\n"
   ]
  },
  {
   "cell_type": "code",
   "execution_count": 39,
   "metadata": {
    "collapsed": false
   },
   "outputs": [
    {
     "name": "stdout",
     "output_type": "stream",
     "text": [
      "epoch 1\n",
      "train mean loss=0.692179178198, accuracy=0.405833334352\n",
      "test  mean loss=0.69301536841, accuracy=0.519573642302\n",
      "epoch 2\n",
      "train mean loss=0.684222867091, accuracy=0.533333337555\n",
      "test  mean loss=0.686044189357, accuracy=0.678294575954\n",
      "epoch 3\n",
      "train mean loss=0.675239764154, accuracy=0.688333339989\n",
      "test  mean loss=0.677784725215, accuracy=0.699224809344\n",
      "epoch 4\n",
      "train mean loss=0.664293217162, accuracy=0.710000000894\n",
      "test  mean loss=0.666206084019, accuracy=0.734108524729\n",
      "epoch 5\n",
      "train mean loss=0.649895340204, accuracy=0.736666666965\n",
      "test  mean loss=0.651806884034, accuracy=0.75872092284\n",
      "epoch 6\n",
      "train mean loss=0.633011656503, accuracy=0.746666664879\n",
      "test  mean loss=0.633158586746, accuracy=0.76879844647\n",
      "epoch 7\n",
      "train mean loss=0.614307016134, accuracy=0.751666662594\n",
      "test  mean loss=0.613342789254, accuracy=0.775968989199\n",
      "epoch 8\n",
      "train mean loss=0.596272354325, accuracy=0.763333335519\n",
      "test  mean loss=0.594466730606, accuracy=0.778294568376\n",
      "epoch 9\n",
      "train mean loss=0.581126714746, accuracy=0.772499993443\n",
      "test  mean loss=0.580014117466, accuracy=0.762403096802\n",
      "epoch 10\n",
      "train mean loss=0.568730487178, accuracy=0.779166663686\n",
      "test  mean loss=0.567877431249, accuracy=0.760077515314\n",
      "epoch 11\n",
      "train mean loss=0.55891593794, accuracy=0.783333328863\n",
      "test  mean loss=0.55967397006, accuracy=0.761046504327\n",
      "epoch 12\n",
      "train mean loss=0.551188139866, accuracy=0.789999994139\n",
      "test  mean loss=0.55288886146, accuracy=0.761821702007\n",
      "epoch 13\n",
      "train mean loss=0.54460700353, accuracy=0.788333324095\n",
      "test  mean loss=0.547063249026, accuracy=0.76957363953\n",
      "epoch 14\n",
      "train mean loss=0.538762941957, accuracy=0.790833331645\n",
      "test  mean loss=0.540368121493, accuracy=0.776937982833\n",
      "epoch 15\n",
      "train mean loss=0.533517980327, accuracy=0.789999996622\n",
      "test  mean loss=0.539217035669, accuracy=0.773837208286\n",
      "epoch 16\n",
      "train mean loss=0.529059514403, accuracy=0.79333332926\n",
      "test  mean loss=0.532876558082, accuracy=0.774612403655\n",
      "epoch 17\n",
      "train mean loss=0.524944553773, accuracy=0.789999991655\n",
      "test  mean loss=0.531735324351, accuracy=0.76996124068\n",
      "epoch 18\n",
      "train mean loss=0.52175876374, accuracy=0.79416666925\n",
      "test  mean loss=0.524728142245, accuracy=0.76996124068\n",
      "epoch 19\n",
      "train mean loss=0.518099634598, accuracy=0.793333326777\n",
      "test  mean loss=0.525628606709, accuracy=0.76996124068\n",
      "epoch 20\n",
      "train mean loss=0.515234646698, accuracy=0.795833326876\n",
      "test  mean loss=0.521766414014, accuracy=0.770736431429\n"
     ]
    },
    {
     "data": {
      "text/plain": [
       "[]"
      ]
     },
     "execution_count": 39,
     "metadata": {},
     "output_type": "execute_result"
    },
    {
     "data": {
      "image/png": "[encoded data removed]",
      "text/plain": [
       "<matplotlib.figure.Figure at 0x10641c110>"
      ]
     },
     "metadata": {},
     "output_type": "display_data"
    }
   ],
   "source": [
    "# Learning loop\n",
    "for epoch in xrange(1, n_epoch+1):\n",
    "        print 'epoch', epoch\n",
    "\n",
    "        # training\n",
    "        # N個の順番をランダムに並び替える\n",
    "        perm = np.random.permutation(N)\n",
    "        sum_accuracy = 0\n",
    "        sum_loss = 0\n",
    "        # 0〜Nまでのデータをバッチサイズごとに使って学習\n",
    "        for i in xrange(0, N, batchsize):\n",
    "                x_batch = x_train[perm[i:i+batchsize]]\n",
    "                y_batch = y_train[perm[i:i+batchsize]]\n",
    "\n",
    "                # 勾配を初期化\n",
    "                optimizer.zero_grads()\n",
    "                # 順伝播させて誤差と精度を算出\n",
    "                loss, acc = forward(x_batch, y_batch)\n",
    "                # 誤差逆伝播で勾配を計算\n",
    "                loss.backward()\n",
    "                optimizer.update()\n",
    "                sum_loss += float(cuda.to_cpu(loss.data)) * batchsize\n",
    "                sum_accuracy += float(cuda.to_cpu(acc.data)) * batchsize\n",
    "\n",
    "        # 訓練データの誤差と、正解精度を表示\n",
    "        print 'train mean loss={}, accuracy={}'.format(sum_loss / N, sum_accuracy / N)\n",
    "\n",
    "        train_loss.append(sum_loss / N)\n",
    "        train_acc.append(sum_accuracy / N)\n",
    "\n",
    "\n",
    "        # evaluation\n",
    "        # テストデータで誤差と、正解精度を算出し汎化性能を確認\n",
    "        sum_accuracy = 0\n",
    "        sum_loss     = 0\n",
    "        for i in xrange(0, N_test, batchsize):\n",
    "                x_batch = x_test[i:i+batchsize]\n",
    "                y_batch = y_test[i:i+batchsize]\n",
    "\n",
    "                # 順伝播させて誤差と精度を算出\n",
    "                loss, acc = forward(x_batch, y_batch, train=False)\n",
    "\n",
    "                sum_loss     += float(cuda.to_cpu(loss.data)) * batchsize\n",
    "                sum_accuracy += float(cuda.to_cpu(acc.data)) * batchsize\n",
    "\n",
    "        # テストデータでの誤差と、正解精度を表示\n",
    "        print 'test  mean loss={}, accuracy={}'.format(sum_loss / N_test, sum_accuracy / N_test)\n",
    "        test_loss.append(sum_loss / N_test)\n",
    "        test_acc.append(sum_accuracy / N_test)\n",
    "\n",
    "\n",
    "        # 学習したパラメーターを保存\n",
    "        l1_W.append(model.l1.W)\n",
    "        l2_W.append(model.l2.W)\n",
    "        l3_W.append(model.l3.W)\n",
    "        l4_W.append(model.l4.W)\n",
    "        l5_W.append(model.l5.W)\n",
    "\n",
    "        # 精度と誤差をグラフ描画\n",
    "plt.figure(figsize=(8,6))\n",
    "plt.plot(range(len(train_acc)), train_acc)\n",
    "plt.plot(range(len(test_acc)), test_acc)\n",
    "plt.legend([\"train_acc\",\"test_acc\"],loc=4)\n",
    "plt.title(\"Accuracy of classification.\")\n",
    "plt.plot()"
   ]
  },
  {
   "cell_type": "code",
   "execution_count": null,
   "metadata": {
    "collapsed": true
   },
   "outputs": [],
   "source": []
  },
  {
   "cell_type": "code",
   "execution_count": null,
   "metadata": {
    "collapsed": true
   },
   "outputs": [],
   "source": []
  }
 ],
 "metadata": {
  "kernelspec": {
   "display_name": "Python 2",
   "language": "python",
   "name": "python2"
  },
  "language_info": {
   "codemirror_mode": {
    "name": "ipython",
    "version": 2
   },
   "file_extension": ".py",
   "mimetype": "text/x-python",
   "name": "python",
   "nbconvert_exporter": "python",
   "pygments_lexer": "ipython2",
   "version": "2.7.10"
  }
 },
 "nbformat": 4,
 "nbformat_minor": 0
}
