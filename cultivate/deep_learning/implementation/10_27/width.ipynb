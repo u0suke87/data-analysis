{
 "cells": [
  {
   "cell_type": "code",
   "execution_count": 91,
   "metadata": {
    "collapsed": true
   },
   "outputs": [],
   "source": [
    "%matplotlib inline\n",
    "import numpy as np\n",
    "import matplotlib.pyplot as plt\n",
    "from chainer import cuda, Variable, FunctionSet, optimizers\n",
    "import chainer.functions as F\n",
    "import sys\n",
    "import csv\n",
    "\n",
    "plt.style.use('ggplot')"
   ]
  },
  {
   "cell_type": "code",
   "execution_count": 92,
   "metadata": {
    "collapsed": false
   },
   "outputs": [],
   "source": [
    "# 確率的勾配降下法におけるミニバッチ数\n",
    "batchsize = 50\n",
    "\n",
    "# 学習の繰り返し回数\n",
    "n_epoch = 20\n",
    "\n",
    "# 中間層の数\n",
    "n_units = 4\n",
    "\n",
    "\n",
    "#=================================================\n",
    "# csvファイルからデータを取り出し、listに格納\n",
    "def set_data():\n",
    "\n",
    "        filename = \"../../../data/misyo/data_standardized\"\n",
    "        \n",
    "        f = open('%s.csv' % filename, 'rU')\n",
    "        data = csv.reader(f)\n",
    "\n",
    "        data_set = []\n",
    "        target_set = []\n",
    "        for line in data:\n",
    "                data_set.append(line[1:4])\n",
    "                target_set.append(line[4])\n",
    "        f.close()\n",
    "        np_dataSet = np.array(data_set, dtype=np.float32)\n",
    "        np_targetSet = np.array(target_set, dtype=np.int32)\n",
    "        return np_dataSet, np_targetSet\n",
    "\n",
    "#=================================================\n",
    "\n",
    "data, target = set_data()\n",
    "\n",
    "# <!--- start_debug\n",
    "#print data.shape\n",
    "#print target.shape\n",
    "#       end_debug ----> \n",
    "\n",
    "\n",
    "# 学習用データをN個、検証用データを残りの個数と設定\n",
    "# Nの値は暫定的なもの\n",
    "N = 1200\n",
    "x_train, x_test = np.split( data, [N])  \n",
    "y_train, y_test = np.split( target, [N]) \n",
    "N_test = y_test.size\n",
    "#print data\n",
    "#print target\n",
    "\n"
   ]
  },
  {
   "cell_type": "code",
   "execution_count": 93,
   "metadata": {
    "collapsed": true
   },
   "outputs": [],
   "source": [
    "# 多層パーセプトロンモデルの設定\n",
    "# 入力 3次元、出力 2次元\n",
    "model = FunctionSet(l1=F.Linear(3, n_units),\n",
    "                    l2=F.Linear(n_units, n_units),\n",
    "                    l3=F.Linear(n_units, 2))\n",
    "\n",
    "# Neural net architecture\n",
    "# ニューラルネットの構造\n",
    "def forward(x_data, y_data, train=True ):\n",
    "        x, t = Variable(x_data), Variable(y_data)\n",
    "        h1 = F.dropout(F.relu(model.l1(x)), ratio=.0, train=train)\n",
    "        h2 = F.dropout(F.relu(model.l2(h1)), ratio=.0, train=train)\n",
    "        y = model.l3(h2)\n",
    "        # 0/1の2クラス分類なので誤差関数として、ソフトマックス関数\n",
    "        # を用いて、誤差を導出\n",
    "        return F.softmax_cross_entropy(y, t), F.accuracy(y, t)\n",
    "\n"
   ]
  },
  {
   "cell_type": "code",
   "execution_count": 94,
   "metadata": {
    "collapsed": true
   },
   "outputs": [],
   "source": [
    "# Setup optimizer\n",
    "optimizer = optimizers.Adam()\n",
    "optimizer.setup(model)\n",
    "\n",
    "train_loss = []\n",
    "train_acc= []\n",
    "test_loss = []\n",
    "test_acc = []\n",
    "\n",
    "l1_W = []\n",
    "l2_W = []\n",
    "l3_W = []\n",
    "\n"
   ]
  },
  {
   "cell_type": "code",
   "execution_count": 95,
   "metadata": {
    "collapsed": false,
    "scrolled": true
   },
   "outputs": [
    {
     "name": "stdout",
     "output_type": "stream",
     "text": [
      "epoch 1\n",
      "train mean loss=0.541864526769, accuracy=0.719999991357\n",
      "test  mean loss=0.476221211197, accuracy=0.796705422013\n",
      "epoch 2\n",
      "train mean loss=0.461994235714, accuracy=0.791666666667\n",
      "test  mean loss=0.49730701271, accuracy=0.787403098373\n",
      "epoch 3\n",
      "train mean loss=0.4591332376, accuracy=0.795833326876\n",
      "test  mean loss=0.486471301825, accuracy=0.788178291432\n",
      "epoch 4\n",
      "train mean loss=0.458194406082, accuracy=0.793333326777\n",
      "test  mean loss=0.473728801391, accuracy=0.793604652087\n",
      "epoch 5\n",
      "train mean loss=0.455818874141, accuracy=0.796666661898\n",
      "test  mean loss=0.493461777304, accuracy=0.783527128456\n",
      "epoch 6\n",
      "train mean loss=0.454327060531, accuracy=0.799999989569\n",
      "test  mean loss=0.476086531268, accuracy=0.79050387523\n",
      "epoch 7\n",
      "train mean loss=0.455015740047, accuracy=0.794166661799\n",
      "test  mean loss=0.490851231324, accuracy=0.781007748704\n",
      "epoch 8\n",
      "train mean loss=0.452585216612, accuracy=0.798333329459\n",
      "test  mean loss=0.474825348965, accuracy=0.790503872919\n",
      "epoch 9\n",
      "train mean loss=0.45326373602, accuracy=0.799166661998\n",
      "test  mean loss=0.474583669457, accuracy=0.78972867986\n",
      "epoch 10\n",
      "train mean loss=0.453756392002, accuracy=0.797500001887\n",
      "test  mean loss=0.489482330953, accuracy=0.783527130766\n",
      "epoch 11\n",
      "train mean loss=0.451759601633, accuracy=0.799999992053\n",
      "test  mean loss=0.484849927268, accuracy=0.781007751014\n",
      "epoch 12\n",
      "train mean loss=0.451949262371, accuracy=0.799999994536\n",
      "test  mean loss=0.50482759642, accuracy=0.777131783408\n",
      "epoch 13\n",
      "train mean loss=0.449939440936, accuracy=0.803333332141\n",
      "test  mean loss=0.475651063891, accuracy=0.788178293742\n",
      "epoch 14\n",
      "train mean loss=0.450370060901, accuracy=0.801666662097\n",
      "test  mean loss=0.484412938587, accuracy=0.781782944073\n",
      "epoch 15\n",
      "train mean loss=0.451016649604, accuracy=0.799166657031\n",
      "test  mean loss=0.493506328311, accuracy=0.778682167216\n",
      "epoch 16\n",
      "train mean loss=0.450474084665, accuracy=0.804166662196\n",
      "test  mean loss=0.486033021711, accuracy=0.78449612209\n",
      "epoch 17\n",
      "train mean loss=0.449025567621, accuracy=0.801666664581\n",
      "test  mean loss=0.493673461583, accuracy=0.776356590349\n",
      "epoch 18\n",
      "train mean loss=0.448617496838, accuracy=0.804999997218\n",
      "test  mean loss=0.473846102408, accuracy=0.791279068289\n",
      "epoch 19\n",
      "train mean loss=0.448797268172, accuracy=0.799999992053\n",
      "test  mean loss=0.494540048431, accuracy=0.778100770111\n",
      "epoch 20\n",
      "train mean loss=0.447470718374, accuracy=0.800833327075\n",
      "test  mean loss=0.478864133127, accuracy=0.786627905313\n"
     ]
    },
    {
     "data": {
      "text/plain": [
       "[]"
      ]
     },
     "execution_count": 95,
     "metadata": {},
     "output_type": "execute_result"
    },
    {
     "data": {
      "image/png": "[encoded data removed]",
      "text/plain": [
       "<matplotlib.figure.Figure at 0x1065eced0>"
      ]
     },
     "metadata": {},
     "output_type": "display_data"
    }
   ],
   "source": [
    "# Learning loop\n",
    "for epoch in xrange(1, n_epoch+1):\n",
    "        print 'epoch', epoch\n",
    "\n",
    "        # training\n",
    "        # N個の順番をランダムに並び替える\n",
    "        perm = np.random.permutation(N)\n",
    "        sum_accuracy = 0\n",
    "        sum_loss = 0\n",
    "        # 0〜Nまでのデータをバッチサイズごとに使って学習\n",
    "        for i in xrange(0, N, batchsize):\n",
    "                x_batch = x_train[perm[i:i+batchsize]]\n",
    "                y_batch = y_train[perm[i:i+batchsize]]\n",
    "\n",
    "                # 勾配を初期化\n",
    "                optimizer.zero_grads()\n",
    "                # 順伝播させて誤差と精度を算出\n",
    "                loss, acc = forward(x_batch, y_batch)\n",
    "                # 誤差逆伝播で勾配を計算\n",
    "                loss.backward()\n",
    "                optimizer.update()\n",
    "                sum_loss += float(cuda.to_cpu(loss.data)) * batchsize\n",
    "                sum_accuracy += float(cuda.to_cpu(acc.data)) * batchsize\n",
    "\n",
    "        # 訓練データの誤差と、正解精度を表示\n",
    "        print 'train mean loss={}, accuracy={}'.format(sum_loss / N, sum_accuracy / N)\n",
    "\n",
    "        train_loss.append(sum_loss / N)\n",
    "        train_acc.append(sum_accuracy / N)\n",
    "\n",
    "\n",
    "        # evaluation\n",
    "        # テストデータで誤差と、正解精度を算出し汎化性能を確認\n",
    "        sum_accuracy = 0\n",
    "        sum_loss     = 0\n",
    "        for i in xrange(0, N_test, batchsize):\n",
    "                x_batch = x_test[i:i+batchsize]\n",
    "                y_batch = y_test[i:i+batchsize]\n",
    "\n",
    "                # 順伝播させて誤差と精度を算出\n",
    "                loss, acc = forward(x_batch, y_batch, train=False)\n",
    "\n",
    "                sum_loss     += float(cuda.to_cpu(loss.data)) * batchsize\n",
    "                sum_accuracy += float(cuda.to_cpu(acc.data)) * batchsize\n",
    "\n",
    "        # テストデータでの誤差と、正解精度を表示\n",
    "        print 'test  mean loss={}, accuracy={}'.format(sum_loss / N_test, sum_accuracy / N_test)\n",
    "        test_loss.append(sum_loss / N_test)\n",
    "        test_acc.append(sum_accuracy / N_test)\n",
    "\n",
    "\n",
    "        # 学習したパラメーターを保存\n",
    "        l1_W.append(model.l1.W)\n",
    "        l2_W.append(model.l2.W)\n",
    "        l3_W.append(model.l3.W)\n",
    "\n",
    "        # 精度と誤差をグラフ描画\n",
    "plt.figure(figsize=(8,6))\n",
    "plt.plot(range(len(train_acc)), train_acc)\n",
    "plt.plot(range(len(test_acc)), test_acc)\n",
    "plt.legend([\"train_acc\",\"test_acc\"],loc=4)\n",
    "plt.title(\"Accuracy of classification.\")\n",
    "plt.plot()"
   ]
  },
  {
   "cell_type": "code",
   "execution_count": null,
   "metadata": {
    "collapsed": true
   },
   "outputs": [],
   "source": []
  },
  {
   "cell_type": "code",
   "execution_count": null,
   "metadata": {
    "collapsed": true
   },
   "outputs": [],
   "source": []
  }
 ],
 "metadata": {
  "kernelspec": {
   "display_name": "Python 2",
   "language": "python",
   "name": "python2"
  },
  "language_info": {
   "codemirror_mode": {
    "name": "ipython",
    "version": 2
   },
   "file_extension": ".py",
   "mimetype": "text/x-python",
   "name": "python",
   "nbconvert_exporter": "python",
   "pygments_lexer": "ipython2",
   "version": "2.7.10"
  }
 },
 "nbformat": 4,
 "nbformat_minor": 0
}
