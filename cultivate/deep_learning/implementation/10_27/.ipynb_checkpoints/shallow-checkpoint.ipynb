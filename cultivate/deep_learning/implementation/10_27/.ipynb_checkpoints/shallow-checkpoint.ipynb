{
 "cells": [
  {
   "cell_type": "code",
   "execution_count": 21,
   "metadata": {
    "collapsed": true
   },
   "outputs": [],
   "source": [
    "%matplotlib inline\n",
    "import numpy as np\n",
    "import matplotlib.pyplot as plt\n",
    "from chainer import cuda, Variable, FunctionSet, optimizers\n",
    "import chainer.functions as F\n",
    "import sys\n",
    "import csv\n",
    "\n",
    "plt.style.use('ggplot')"
   ]
  },
  {
   "cell_type": "code",
   "execution_count": 22,
   "metadata": {
    "collapsed": false
   },
   "outputs": [],
   "source": [
    "# 確率的勾配降下法におけるミニバッチ数\n",
    "batchsize = 50\n",
    "\n",
    "# 学習の繰り返し回数\n",
    "n_epoch = 20\n",
    "\n",
    "# 中間層の数\n",
    "n_units = 4\n",
    "\n",
    "\n",
    "#=================================================\n",
    "# csvファイルからデータを取り出し、listに格納\n",
    "def set_data():\n",
    "\n",
    "        filename = \"../../../data/misyo/data_standardized\"\n",
    "        \n",
    "        f = open('%s.csv' % filename, 'rU')\n",
    "        data = csv.reader(f)\n",
    "\n",
    "        data_set = []\n",
    "        target_set = []\n",
    "        for line in data:\n",
    "                data_set.append(line[1:4])\n",
    "                target_set.append(line[4])\n",
    "        f.close()\n",
    "        np_dataSet = np.array(data_set, dtype=np.float32)\n",
    "        np_targetSet = np.array(target_set, dtype=np.int32)\n",
    "        return np_dataSet, np_targetSet\n",
    "\n",
    "#=================================================\n",
    "\n",
    "data, target = set_data()\n",
    "\n",
    "# <!--- start_debug\n",
    "#print data.shape\n",
    "#print target.shape\n",
    "#       end_debug ----> \n",
    "\n",
    "\n",
    "# 学習用データをN個、検証用データを残りの個数と設定\n",
    "# Nの値は暫定的なもの\n",
    "N = 1200\n",
    "x_train, x_test = np.split( data, [N])  \n",
    "y_train, y_test = np.split( target, [N]) \n",
    "N_test = y_test.size\n",
    "#print data\n",
    "#print target\n",
    "\n"
   ]
  },
  {
   "cell_type": "code",
   "execution_count": 23,
   "metadata": {
    "collapsed": true
   },
   "outputs": [],
   "source": [
    "# 多層パーセプトロンモデルの設定\n",
    "# 入力 3次元、出力 2次元\n",
    "model = FunctionSet(l1=F.Linear(3, n_units),\n",
    "                    l2=F.Linear(n_units, n_units),\n",
    "                    l3=F.Linear(n_units, 2))\n",
    "\n",
    "# Neural net architecture\n",
    "# ニューラルネットの構造\n",
    "def forward(x_data, y_data, train=True ):\n",
    "        x, t = Variable(x_data), Variable(y_data)\n",
    "        h1 = F.dropout(F.relu(model.l1(x)), ratio=.0, train=train)\n",
    "        h2 = F.dropout(F.relu(model.l2(h1)), ratio=.0, train=train)\n",
    "        y = model.l3(h2)\n",
    "        # 0/1の2クラス分類なので誤差関数として、ソフトマックス関数\n",
    "        # を用いて、誤差を導出\n",
    "        return F.softmax_cross_entropy(y, t), F.accuracy(y, t)\n",
    "\n"
   ]
  },
  {
   "cell_type": "code",
   "execution_count": 24,
   "metadata": {
    "collapsed": true
   },
   "outputs": [],
   "source": [
    "# Setup optimizer\n",
    "optimizer = optimizers.Adam()\n",
    "optimizer.setup(model)\n",
    "\n",
    "train_loss = []\n",
    "train_acc= []\n",
    "test_loss = []\n",
    "test_acc = []\n",
    "\n",
    "l1_W = []\n",
    "l2_W = []\n",
    "l3_W = []\n",
    "\n"
   ]
  },
  {
   "cell_type": "code",
   "execution_count": 25,
   "metadata": {
    "collapsed": false
   },
   "outputs": [
    {
     "name": "stdout",
     "output_type": "stream",
     "text": [
      "epoch 1\n",
      "train mean loss=0.670953671137, accuracy=0.71166667218\n",
      "test  mean loss=0.673503843389, accuracy=0.705426356127\n",
      "epoch 2\n",
      "train mean loss=0.657328029474, accuracy=0.761666662991\n",
      "test  mean loss=0.662060373051, accuracy=0.755620150603\n",
      "epoch 3\n",
      "train mean loss=0.644923542937, accuracy=0.775833323598\n",
      "test  mean loss=0.651110637096, accuracy=0.759496118209\n",
      "epoch 4\n",
      "train mean loss=0.632906205952, accuracy=0.778333326181\n",
      "test  mean loss=0.640361821929, accuracy=0.761046504327\n",
      "epoch 5\n",
      "train mean loss=0.620776874324, accuracy=0.779999991258\n",
      "test  mean loss=0.628307491772, accuracy=0.760077510693\n",
      "epoch 6\n",
      "train mean loss=0.608231748144, accuracy=0.779999993742\n",
      "test  mean loss=0.615969956383, accuracy=0.758527124575\n",
      "epoch 7\n",
      "train mean loss=0.596172628303, accuracy=0.780833328764\n",
      "test  mean loss=0.602865838265, accuracy=0.760077513004\n",
      "epoch 8\n",
      "train mean loss=0.584164378544, accuracy=0.779999998709\n",
      "test  mean loss=0.591566433278, accuracy=0.760077513004\n",
      "epoch 9\n",
      "train mean loss=0.573360501478, accuracy=0.778333326181\n",
      "test  mean loss=0.580280706171, accuracy=0.759302322255\n",
      "epoch 10\n",
      "train mean loss=0.563698900243, accuracy=0.776666663587\n",
      "test  mean loss=0.569671690464, accuracy=0.758527126885\n",
      "epoch 11\n",
      "train mean loss=0.55486952886, accuracy=0.780833328764\n",
      "test  mean loss=0.560130382231, accuracy=0.766666660937\n",
      "epoch 12\n",
      "train mean loss=0.547051428507, accuracy=0.781666658819\n",
      "test  mean loss=0.552165556786, accuracy=0.77441860308\n",
      "epoch 13\n",
      "train mean loss=0.539859397958, accuracy=0.779999993742\n",
      "test  mean loss=0.544950348693, accuracy=0.772093016972\n",
      "epoch 14\n",
      "train mean loss=0.533159503092, accuracy=0.779999998709\n",
      "test  mean loss=0.538079863371, accuracy=0.774612403655\n",
      "epoch 15\n",
      "train mean loss=0.526279121637, accuracy=0.782499993841\n",
      "test  mean loss=0.528230431468, accuracy=0.778682167216\n",
      "epoch 16\n",
      "train mean loss=0.516839556396, accuracy=0.781666658819\n",
      "test  mean loss=0.516132740087, accuracy=0.782558139442\n",
      "epoch 17\n",
      "train mean loss=0.505478372176, accuracy=0.781666658819\n",
      "test  mean loss=0.50584292689, accuracy=0.777131781098\n",
      "epoch 18\n",
      "train mean loss=0.493418919543, accuracy=0.779999998709\n",
      "test  mean loss=0.498087490483, accuracy=0.77480620192\n",
      "epoch 19\n",
      "train mean loss=0.483458135277, accuracy=0.781666666269\n",
      "test  mean loss=0.487892267316, accuracy=0.779457360275\n",
      "epoch 20\n",
      "train mean loss=0.47746326526, accuracy=0.781666663786\n",
      "test  mean loss=0.487148572308, accuracy=0.7748061973\n"
     ]
    },
    {
     "data": {
      "text/plain": [
       "[]"
      ]
     },
     "execution_count": 25,
     "metadata": {},
     "output_type": "execute_result"
    },
    {
     "data": {
      "image/png": "[encoded data removed]",
      "text/plain": [
       "<matplotlib.figure.Figure at 0x10651b5d0>"
      ]
     },
     "metadata": {},
     "output_type": "display_data"
    }
   ],
   "source": [
    "# Learning loop\n",
    "for epoch in xrange(1, n_epoch+1):\n",
    "        print 'epoch', epoch\n",
    "\n",
    "        # training\n",
    "        # N個の順番をランダムに並び替える\n",
    "        perm = np.random.permutation(N)\n",
    "        sum_accuracy = 0\n",
    "        sum_loss = 0\n",
    "        # 0〜Nまでのデータをバッチサイズごとに使って学習\n",
    "        for i in xrange(0, N, batchsize):\n",
    "                x_batch = x_train[perm[i:i+batchsize]]\n",
    "                y_batch = y_train[perm[i:i+batchsize]]\n",
    "\n",
    "                # 勾配を初期化\n",
    "                optimizer.zero_grads()\n",
    "                # 順伝播させて誤差と精度を算出\n",
    "                loss, acc = forward(x_batch, y_batch)\n",
    "                # 誤差逆伝播で勾配を計算\n",
    "                loss.backward()\n",
    "                optimizer.update()\n",
    "                sum_loss += float(cuda.to_cpu(loss.data)) * batchsize\n",
    "                sum_accuracy += float(cuda.to_cpu(acc.data)) * batchsize\n",
    "\n",
    "        # 訓練データの誤差と、正解精度を表示\n",
    "        print 'train mean loss={}, accuracy={}'.format(sum_loss / N, sum_accuracy / N)\n",
    "\n",
    "        train_loss.append(sum_loss / N)\n",
    "        train_acc.append(sum_accuracy / N)\n",
    "\n",
    "\n",
    "        # evaluation\n",
    "        # テストデータで誤差と、正解精度を算出し汎化性能を確認\n",
    "        sum_accuracy = 0\n",
    "        sum_loss     = 0\n",
    "        for i in xrange(0, N_test, batchsize):\n",
    "                x_batch = x_test[i:i+batchsize]\n",
    "                y_batch = y_test[i:i+batchsize]\n",
    "\n",
    "                # 順伝播させて誤差と精度を算出\n",
    "                loss, acc = forward(x_batch, y_batch, train=False)\n",
    "\n",
    "                sum_loss     += float(cuda.to_cpu(loss.data)) * batchsize\n",
    "                sum_accuracy += float(cuda.to_cpu(acc.data)) * batchsize\n",
    "\n",
    "        # テストデータでの誤差と、正解精度を表示\n",
    "        print 'test  mean loss={}, accuracy={}'.format(sum_loss / N_test, sum_accuracy / N_test)\n",
    "        test_loss.append(sum_loss / N_test)\n",
    "        test_acc.append(sum_accuracy / N_test)\n",
    "\n",
    "\n",
    "        # 学習したパラメーターを保存\n",
    "        l1_W.append(model.l1.W)\n",
    "        l2_W.append(model.l2.W)\n",
    "        l3_W.append(model.l3.W)\n",
    "\n",
    "        # 精度と誤差をグラフ描画\n",
    "plt.figure(figsize=(8,6))\n",
    "plt.plot(range(len(train_acc)), train_acc)\n",
    "plt.plot(range(len(test_acc)), test_acc)\n",
    "plt.legend([\"train_acc\",\"test_acc\"],loc=4)\n",
    "plt.title(\"Accuracy of classification.\")\n",
    "plt.plot()"
   ]
  },
  {
   "cell_type": "code",
   "execution_count": null,
   "metadata": {
    "collapsed": true
   },
   "outputs": [],
   "source": []
  },
  {
   "cell_type": "code",
   "execution_count": null,
   "metadata": {
    "collapsed": true
   },
   "outputs": [],
   "source": []
  }
 ],
 "metadata": {
  "kernelspec": {
   "display_name": "Python 2",
   "language": "python",
   "name": "python2"
  },
  "language_info": {
   "codemirror_mode": {
    "name": "ipython",
    "version": 2
   },
   "file_extension": ".py",
   "mimetype": "text/x-python",
   "name": "python",
   "nbconvert_exporter": "python",
   "pygments_lexer": "ipython2",
   "version": "2.7.10"
  }
 },
 "nbformat": 4,
 "nbformat_minor": 0
}
