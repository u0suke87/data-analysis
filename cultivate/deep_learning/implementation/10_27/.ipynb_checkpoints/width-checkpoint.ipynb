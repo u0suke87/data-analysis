{
 "cells": [
  {
   "cell_type": "code",
   "execution_count": 16,
   "metadata": {
    "collapsed": true
   },
   "outputs": [],
   "source": [
    "%matplotlib inline\n",
    "import numpy as np\n",
    "import matplotlib.pyplot as plt\n",
    "from chainer import cuda, Variable, FunctionSet, optimizers\n",
    "import chainer.functions as F\n",
    "import sys\n",
    "import csv\n",
    "\n",
    "plt.style.use('ggplot')"
   ]
  },
  {
   "cell_type": "code",
   "execution_count": 17,
   "metadata": {
    "collapsed": false
   },
   "outputs": [],
   "source": [
    "# 確率的勾配降下法におけるミニバッチ数\n",
    "batchsize = 50\n",
    "\n",
    "# 学習の繰り返し回数\n",
    "n_epoch = 20\n",
    "\n",
    "# 中間層の数\n",
    "n_units = 4\n",
    "\n",
    "\n",
    "#=================================================\n",
    "# csvファイルからデータを取り出し、listに格納\n",
    "def set_data():\n",
    "\n",
    "        filename = \"../../../data/misyo/data_standardized\"\n",
    "        \n",
    "        f = open('%s.csv' % filename, 'rU')\n",
    "        data = csv.reader(f)\n",
    "\n",
    "        data_set = []\n",
    "        target_set = []\n",
    "        for line in data:\n",
    "                data_set.append(line[1:4])\n",
    "                target_set.append(line[4])\n",
    "        f.close()\n",
    "        np_dataSet = np.array(data_set, dtype=np.float32)\n",
    "        np_targetSet = np.array(target_set, dtype=np.int32)\n",
    "        return np_dataSet, np_targetSet\n",
    "\n",
    "#=================================================\n",
    "\n",
    "data, target = set_data()\n",
    "\n",
    "# <!--- start_debug\n",
    "#print data.shape\n",
    "#print target.shape\n",
    "#       end_debug ----> \n",
    "\n",
    "\n",
    "# 学習用データをN個、検証用データを残りの個数と設定\n",
    "# Nの値は暫定的なもの\n",
    "N = 1200\n",
    "x_train, x_test = np.split( data, [N])  \n",
    "y_train, y_test = np.split( target, [N]) \n",
    "N_test = y_test.size\n",
    "#print data\n",
    "#print target\n",
    "\n"
   ]
  },
  {
   "cell_type": "code",
   "execution_count": 18,
   "metadata": {
    "collapsed": true
   },
   "outputs": [],
   "source": [
    "# 多層パーセプトロンモデルの設定\n",
    "# 入力 3次元、出力 2次元\n",
    "model = FunctionSet(l1=F.Linear(3, n_units),\n",
    "                    l2=F.Linear(n_units, n_units),\n",
    "                    l3=F.Linear(n_units, 2))\n",
    "\n",
    "# Neural net architecture\n",
    "# ニューラルネットの構造\n",
    "def forward(x_data, y_data, train=True ):\n",
    "        x, t = Variable(x_data), Variable(y_data)\n",
    "        h1 = F.dropout(F.relu(model.l1(x)), ratio=.0, train=train)\n",
    "        h2 = F.dropout(F.relu(model.l2(h1)), ratio=.0, train=train)\n",
    "        y = model.l3(h2)\n",
    "        # 0/1の2クラス分類なので誤差関数として、ソフトマックス関数\n",
    "        # を用いて、誤差を導出\n",
    "        return F.softmax_cross_entropy(y, t), F.accuracy(y, t)\n",
    "\n"
   ]
  },
  {
   "cell_type": "code",
   "execution_count": 19,
   "metadata": {
    "collapsed": true
   },
   "outputs": [],
   "source": [
    "# Setup optimizer\n",
    "optimizer = optimizers.Adam()\n",
    "optimizer.setup(model)\n",
    "\n",
    "train_loss = []\n",
    "train_acc= []\n",
    "test_loss = []\n",
    "test_acc = []\n",
    "\n",
    "l1_W = []\n",
    "l2_W = []\n",
    "l3_W = []\n",
    "\n"
   ]
  },
  {
   "cell_type": "code",
   "execution_count": 20,
   "metadata": {
    "collapsed": false
   },
   "outputs": [
    {
     "name": "stdout",
     "output_type": "stream",
     "text": [
      "epoch 1\n",
      "train mean loss=0.682493033508, accuracy=0.650833337257\n",
      "test  mean loss=0.687611089196, accuracy=0.675387600827\n",
      "epoch 2\n",
      "train mean loss=0.671048055092, accuracy=0.732500004272\n",
      "test  mean loss=0.676418413488, accuracy=0.703488375789\n",
      "epoch 3\n",
      "train mean loss=0.657777686914, accuracy=0.750833337506\n",
      "test  mean loss=0.663171329702, accuracy=0.706589152647\n",
      "epoch 4\n",
      "train mean loss=0.641945292552, accuracy=0.755833335221\n",
      "test  mean loss=0.648492272048, accuracy=0.716666669347\n",
      "epoch 5\n",
      "train mean loss=0.623715398212, accuracy=0.765833333135\n",
      "test  mean loss=0.631452424582, accuracy=0.730038756548\n",
      "epoch 6\n",
      "train mean loss=0.603529093166, accuracy=0.770000000795\n",
      "test  mean loss=0.612354627413, accuracy=0.734689917213\n",
      "epoch 7\n",
      "train mean loss=0.581860840321, accuracy=0.778333323697\n",
      "test  mean loss=0.592156762994, accuracy=0.747093022332\n",
      "epoch 8\n",
      "train mean loss=0.559580101321, accuracy=0.781666671236\n",
      "test  mean loss=0.571225079917, accuracy=0.757170539032\n",
      "epoch 9\n",
      "train mean loss=0.538896396756, accuracy=0.781666663786\n",
      "test  mean loss=0.552943042775, accuracy=0.762015504892\n",
      "epoch 10\n",
      "train mean loss=0.52117177844, accuracy=0.779166661203\n",
      "test  mean loss=0.538593243028, accuracy=0.765310077704\n",
      "epoch 11\n",
      "train mean loss=0.507293966909, accuracy=0.781666658819\n",
      "test  mean loss=0.523877823076, accuracy=0.778488373572\n",
      "epoch 12\n",
      "train mean loss=0.496220380068, accuracy=0.782500003775\n",
      "test  mean loss=0.515386465677, accuracy=0.781782944073\n",
      "epoch 13\n",
      "train mean loss=0.488325101634, accuracy=0.781666668753\n",
      "test  mean loss=0.508467440688, accuracy=0.784108525561\n",
      "epoch 14\n",
      "train mean loss=0.482715841383, accuracy=0.780833333731\n",
      "test  mean loss=0.50178778495, accuracy=0.785658913989\n",
      "epoch 15\n",
      "train mean loss=0.47878919666, accuracy=0.784166658918\n",
      "test  mean loss=0.495929430391, accuracy=0.786434107049\n",
      "epoch 16\n",
      "train mean loss=0.476101176192, accuracy=0.784999996424\n",
      "test  mean loss=0.49116977079, accuracy=0.786240306474\n",
      "epoch 17\n",
      "train mean loss=0.474458470941, accuracy=0.784166661402\n",
      "test  mean loss=0.489082536263, accuracy=0.787790694902\n",
      "epoch 18\n",
      "train mean loss=0.472952991724, accuracy=0.783333331347\n",
      "test  mean loss=0.484878592944, accuracy=0.791085270024\n",
      "epoch 19\n",
      "train mean loss=0.472096629441, accuracy=0.784166663885\n",
      "test  mean loss=0.484478503697, accuracy=0.791085272334\n",
      "epoch 20\n",
      "train mean loss=0.471229909609, accuracy=0.784999998907\n",
      "test  mean loss=0.480963081815, accuracy=0.792635658453\n"
     ]
    },
    {
     "data": {
      "text/plain": [
       "[]"
      ]
     },
     "execution_count": 20,
     "metadata": {},
     "output_type": "execute_result"
    },
    {
     "data": {
      "image/png": "[encoded data removed]",
      "text/plain": [
       "<matplotlib.figure.Figure at 0x1062699d0>"
      ]
     },
     "metadata": {},
     "output_type": "display_data"
    }
   ],
   "source": [
    "# Learning loop\n",
    "for epoch in xrange(1, n_epoch+1):\n",
    "        print 'epoch', epoch\n",
    "\n",
    "        # training\n",
    "        # N個の順番をランダムに並び替える\n",
    "        perm = np.random.permutation(N)\n",
    "        sum_accuracy = 0\n",
    "        sum_loss = 0\n",
    "        # 0〜Nまでのデータをバッチサイズごとに使って学習\n",
    "        for i in xrange(0, N, batchsize):\n",
    "                x_batch = x_train[perm[i:i+batchsize]]\n",
    "                y_batch = y_train[perm[i:i+batchsize]]\n",
    "\n",
    "                # 勾配を初期化\n",
    "                optimizer.zero_grads()\n",
    "                # 順伝播させて誤差と精度を算出\n",
    "                loss, acc = forward(x_batch, y_batch)\n",
    "                # 誤差逆伝播で勾配を計算\n",
    "                loss.backward()\n",
    "                optimizer.update()\n",
    "                sum_loss += float(cuda.to_cpu(loss.data)) * batchsize\n",
    "                sum_accuracy += float(cuda.to_cpu(acc.data)) * batchsize\n",
    "\n",
    "        # 訓練データの誤差と、正解精度を表示\n",
    "        print 'train mean loss={}, accuracy={}'.format(sum_loss / N, sum_accuracy / N)\n",
    "\n",
    "        train_loss.append(sum_loss / N)\n",
    "        train_acc.append(sum_accuracy / N)\n",
    "\n",
    "\n",
    "        # evaluation\n",
    "        # テストデータで誤差と、正解精度を算出し汎化性能を確認\n",
    "        sum_accuracy = 0\n",
    "        sum_loss     = 0\n",
    "        for i in xrange(0, N_test, batchsize):\n",
    "                x_batch = x_test[i:i+batchsize]\n",
    "                y_batch = y_test[i:i+batchsize]\n",
    "\n",
    "                # 順伝播させて誤差と精度を算出\n",
    "                loss, acc = forward(x_batch, y_batch, train=False)\n",
    "\n",
    "                sum_loss     += float(cuda.to_cpu(loss.data)) * batchsize\n",
    "                sum_accuracy += float(cuda.to_cpu(acc.data)) * batchsize\n",
    "\n",
    "        # テストデータでの誤差と、正解精度を表示\n",
    "        print 'test  mean loss={}, accuracy={}'.format(sum_loss / N_test, sum_accuracy / N_test)\n",
    "        test_loss.append(sum_loss / N_test)\n",
    "        test_acc.append(sum_accuracy / N_test)\n",
    "\n",
    "\n",
    "        # 学習したパラメーターを保存\n",
    "        l1_W.append(model.l1.W)\n",
    "        l2_W.append(model.l2.W)\n",
    "        l3_W.append(model.l3.W)\n",
    "\n",
    "        # 精度と誤差をグラフ描画\n",
    "plt.figure(figsize=(8,6))\n",
    "plt.plot(range(len(train_acc)), train_acc)\n",
    "plt.plot(range(len(test_acc)), test_acc)\n",
    "plt.legend([\"train_acc\",\"test_acc\"],loc=4)\n",
    "plt.title(\"Accuracy of classification.\")\n",
    "plt.plot()"
   ]
  },
  {
   "cell_type": "code",
   "execution_count": null,
   "metadata": {
    "collapsed": true
   },
   "outputs": [],
   "source": []
  },
  {
   "cell_type": "code",
   "execution_count": null,
   "metadata": {
    "collapsed": true
   },
   "outputs": [],
   "source": []
  }
 ],
 "metadata": {
  "kernelspec": {
   "display_name": "Python 2",
   "language": "python",
   "name": "python2"
  },
  "language_info": {
   "codemirror_mode": {
    "name": "ipython",
    "version": 2
   },
   "file_extension": ".py",
   "mimetype": "text/x-python",
   "name": "python",
   "nbconvert_exporter": "python",
   "pygments_lexer": "ipython2",
   "version": "2.7.10"
  }
 },
 "nbformat": 4,
 "nbformat_minor": 0
}
