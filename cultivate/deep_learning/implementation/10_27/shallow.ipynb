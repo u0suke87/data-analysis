{
 "cells": [
  {
   "cell_type": "code",
   "execution_count": 41,
   "metadata": {
    "collapsed": true
   },
   "outputs": [],
   "source": [
    "%matplotlib inline\n",
    "import numpy as np\n",
    "import matplotlib.pyplot as plt\n",
    "from chainer import cuda, Variable, FunctionSet, optimizers\n",
    "import chainer.functions as F\n",
    "import sys\n",
    "import csv\n",
    "\n",
    "plt.style.use('ggplot')"
   ]
  },
  {
   "cell_type": "code",
   "execution_count": 42,
   "metadata": {
    "collapsed": false
   },
   "outputs": [],
   "source": [
    "# 確率的勾配降下法におけるミニバッチ数\n",
    "batchsize = 50\n",
    "\n",
    "# 学習の繰り返し回数\n",
    "n_epoch = 20\n",
    "\n",
    "# 中間層の数\n",
    "n_units = 4\n",
    "\n",
    "\n",
    "#=================================================\n",
    "# csvファイルからデータを取り出し、listに格納\n",
    "def set_data():\n",
    "\n",
    "        filename = \"../../../data/misyo/data_standardized\"\n",
    "        \n",
    "        f = open('%s.csv' % filename, 'rU')\n",
    "        data = csv.reader(f)\n",
    "\n",
    "        data_set = []\n",
    "        target_set = []\n",
    "        for line in data:\n",
    "                data_set.append(line[1:4])\n",
    "                target_set.append(line[4])\n",
    "        f.close()\n",
    "        np_dataSet = np.array(data_set, dtype=np.float32)\n",
    "        np_targetSet = np.array(target_set, dtype=np.int32)\n",
    "        return np_dataSet, np_targetSet\n",
    "\n",
    "#=================================================\n",
    "\n",
    "data, target = set_data()\n",
    "\n",
    "# <!--- start_debug\n",
    "#print data.shape\n",
    "#print target.shape\n",
    "#       end_debug ----> \n",
    "\n",
    "\n",
    "# 学習用データをN個、検証用データを残りの個数と設定\n",
    "# Nの値は暫定的なもの\n",
    "N = 1200\n",
    "x_train, x_test = np.split( data, [N])  \n",
    "y_train, y_test = np.split( target, [N]) \n",
    "N_test = y_test.size\n",
    "#print data\n",
    "#print target\n",
    "\n"
   ]
  },
  {
   "cell_type": "code",
   "execution_count": 43,
   "metadata": {
    "collapsed": true
   },
   "outputs": [],
   "source": [
    "# 多層パーセプトロンモデルの設定\n",
    "# 入力 3次元、出力 2次元\n",
    "model = FunctionSet(l1=F.Linear(3, 2))\n",
    "\n",
    "# Neural net architecture\n",
    "# ニューラルネットの構造\n",
    "def forward(x_data, y_data, train=True ):\n",
    "        x, t = Variable(x_data), Variable(y_data)\n",
    "        h1 = F.dropout(F.relu(model.l1(x)), ratio=.0, train=train)\n",
    "        y = model.l2(h1)\n",
    "        # 0/1の2クラス分類なので誤差関数として、ソフトマックス関数\n",
    "        # を用いて、誤差を導出\n",
    "        return F.softmax_cross_entropy(y, t), F.accuracy(y, t)\n",
    "\n"
   ]
  },
  {
   "cell_type": "code",
   "execution_count": 44,
   "metadata": {
    "collapsed": true
   },
   "outputs": [],
   "source": [
    "# Setup optimizer\n",
    "optimizer = optimizers.Adam()\n",
    "optimizer.setup(model)\n",
    "\n",
    "train_loss = []\n",
    "train_acc= []\n",
    "test_loss = []\n",
    "test_acc = []\n",
    "\n",
    "l1_W = []\n",
    "l2_W = []\n",
    "\n"
   ]
  },
  {
   "cell_type": "code",
   "execution_count": 45,
   "metadata": {
    "collapsed": false
   },
   "outputs": [
    {
     "name": "stdout",
     "output_type": "stream",
     "text": [
      "epoch 1\n",
      "train mean loss=0.643499366939, accuracy=0.624166664978\n",
      "test  mean loss=0.647376456926, accuracy=0.721124034057\n",
      "epoch 2\n",
      "train mean loss=0.623148950438, accuracy=0.728333336612\n",
      "test  mean loss=0.628415521725, accuracy=0.788372089696\n",
      "epoch 3\n",
      "train mean loss=0.605578519404, accuracy=0.766666665673\n",
      "test  mean loss=0.611627443816, accuracy=0.797480619693\n",
      "epoch 4\n",
      "train mean loss=0.589641422033, accuracy=0.781666658819\n",
      "test  mean loss=0.596547912258, accuracy=0.792054263658\n",
      "epoch 5\n",
      "train mean loss=0.575467782716, accuracy=0.779999996225\n",
      "test  mean loss=0.582517008911, accuracy=0.781007748704\n",
      "epoch 6\n",
      "train mean loss=0.562181582054, accuracy=0.781666663786\n",
      "test  mean loss=0.5693290862, accuracy=0.782558134822\n",
      "epoch 7\n",
      "train mean loss=0.549848878135, accuracy=0.783333328863\n",
      "test  mean loss=0.557398716378, accuracy=0.781007748704\n",
      "epoch 8\n",
      "train mean loss=0.538676797102, accuracy=0.78333333383\n",
      "test  mean loss=0.54601408599, accuracy=0.777131781098\n",
      "epoch 9\n",
      "train mean loss=0.528335653245, accuracy=0.783333328863\n",
      "test  mean loss=0.535763700803, accuracy=0.7748061973\n",
      "epoch 10\n",
      "train mean loss=0.518847049524, accuracy=0.785000003874\n",
      "test  mean loss=0.527140737273, accuracy=0.774806192679\n",
      "epoch 11\n",
      "train mean loss=0.51062254856, accuracy=0.784166658918\n",
      "test  mean loss=0.517737526995, accuracy=0.775581385738\n",
      "epoch 12\n",
      "train mean loss=0.503491795311, accuracy=0.783333331347\n",
      "test  mean loss=0.50992497409, accuracy=0.777131774167\n",
      "epoch 13\n",
      "train mean loss=0.497054028014, accuracy=0.783333328863\n",
      "test  mean loss=0.504732700281, accuracy=0.776356581108\n",
      "epoch 14\n",
      "train mean loss=0.491813375304, accuracy=0.782499993841\n",
      "test  mean loss=0.498598755099, accuracy=0.777906971846\n",
      "epoch 15\n",
      "train mean loss=0.487254237135, accuracy=0.785833331446\n",
      "test  mean loss=0.493026867855, accuracy=0.783527130766\n",
      "epoch 16\n",
      "train mean loss=0.483637096981, accuracy=0.783333331347\n",
      "test  mean loss=0.490702957839, accuracy=0.782751937707\n",
      "epoch 17\n",
      "train mean loss=0.480575098346, accuracy=0.784166658918\n",
      "test  mean loss=0.486193832963, accuracy=0.783527130766\n",
      "epoch 18\n",
      "train mean loss=0.478067322324, accuracy=0.782499996324\n",
      "test  mean loss=0.482967628758, accuracy=0.784302323826\n",
      "epoch 19\n",
      "train mean loss=0.476096694668, accuracy=0.782499991357\n",
      "test  mean loss=0.480909978234, accuracy=0.784302323826\n",
      "epoch 20\n",
      "train mean loss=0.474360927939, accuracy=0.783333331347\n",
      "test  mean loss=0.480056931806, accuracy=0.785077516885\n"
     ]
    },
    {
     "data": {
      "text/plain": [
       "[]"
      ]
     },
     "execution_count": 45,
     "metadata": {},
     "output_type": "execute_result"
    },
    {
     "data": {
      "image/png": "[encoded data removed]",
      "text/plain": [
       "<matplotlib.figure.Figure at 0x106632650>"
      ]
     },
     "metadata": {},
     "output_type": "display_data"
    }
   ],
   "source": [
    "# Learning loop\n",
    "for epoch in xrange(1, n_epoch+1):\n",
    "        print 'epoch', epoch\n",
    "\n",
    "        # training\n",
    "        # N個の順番をランダムに並び替える\n",
    "        perm = np.random.permutation(N)\n",
    "        sum_accuracy = 0\n",
    "        sum_loss = 0\n",
    "        # 0〜Nまでのデータをバッチサイズごとに使って学習\n",
    "        for i in xrange(0, N, batchsize):\n",
    "                x_batch = x_train[perm[i:i+batchsize]]\n",
    "                y_batch = y_train[perm[i:i+batchsize]]\n",
    "\n",
    "                # 勾配を初期化\n",
    "                optimizer.zero_grads()\n",
    "                # 順伝播させて誤差と精度を算出\n",
    "                loss, acc = forward(x_batch, y_batch)\n",
    "                # 誤差逆伝播で勾配を計算\n",
    "                loss.backward()\n",
    "                optimizer.update()\n",
    "                sum_loss += float(cuda.to_cpu(loss.data)) * batchsize\n",
    "                sum_accuracy += float(cuda.to_cpu(acc.data)) * batchsize\n",
    "\n",
    "        # 訓練データの誤差と、正解精度を表示\n",
    "        print 'train mean loss={}, accuracy={}'.format(sum_loss / N, sum_accuracy / N)\n",
    "\n",
    "        train_loss.append(sum_loss / N)\n",
    "        train_acc.append(sum_accuracy / N)\n",
    "\n",
    "\n",
    "        # evaluation\n",
    "        # テストデータで誤差と、正解精度を算出し汎化性能を確認\n",
    "        sum_accuracy = 0\n",
    "        sum_loss     = 0\n",
    "        for i in xrange(0, N_test, batchsize):\n",
    "                x_batch = x_test[i:i+batchsize]\n",
    "                y_batch = y_test[i:i+batchsize]\n",
    "\n",
    "                # 順伝播させて誤差と精度を算出\n",
    "                loss, acc = forward(x_batch, y_batch, train=False)\n",
    "\n",
    "                sum_loss     += float(cuda.to_cpu(loss.data)) * batchsize\n",
    "                sum_accuracy += float(cuda.to_cpu(acc.data)) * batchsize\n",
    "\n",
    "        # テストデータでの誤差と、正解精度を表示\n",
    "        print 'test  mean loss={}, accuracy={}'.format(sum_loss / N_test, sum_accuracy / N_test)\n",
    "        test_loss.append(sum_loss / N_test)\n",
    "        test_acc.append(sum_accuracy / N_test)\n",
    "\n",
    "\n",
    "        # 学習したパラメーターを保存\n",
    "        l1_W.append(model.l1.W)\n",
    "        l2_W.append(model.l2.W)\n",
    "\n",
    "        # 精度と誤差をグラフ描画\n",
    "plt.figure(figsize=(8,6))\n",
    "plt.plot(range(len(train_acc)), train_acc)\n",
    "plt.plot(range(len(test_acc)), test_acc)\n",
    "plt.legend([\"train_acc\",\"test_acc\"],loc=4)\n",
    "plt.title(\"Accuracy of classification.\")\n",
    "plt.plot()"
   ]
  },
  {
   "cell_type": "code",
   "execution_count": null,
   "metadata": {
    "collapsed": true
   },
   "outputs": [],
   "source": []
  },
  {
   "cell_type": "code",
   "execution_count": null,
   "metadata": {
    "collapsed": true
   },
   "outputs": [],
   "source": []
  }
 ],
 "metadata": {
  "kernelspec": {
   "display_name": "Python 2",
   "language": "python",
   "name": "python2"
  },
  "language_info": {
   "codemirror_mode": {
    "name": "ipython",
    "version": 2
   },
   "file_extension": ".py",
   "mimetype": "text/x-python",
   "name": "python",
   "nbconvert_exporter": "python",
   "pygments_lexer": "ipython2",
   "version": "2.7.10"
  }
 },
 "nbformat": 4,
 "nbformat_minor": 0
}
