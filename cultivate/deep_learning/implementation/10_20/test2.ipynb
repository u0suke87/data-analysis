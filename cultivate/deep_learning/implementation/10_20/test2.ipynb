{
 "cells": [
  {
   "cell_type": "code",
   "execution_count": 12,
   "metadata": {
    "collapsed": true
   },
   "outputs": [],
   "source": [
    "%matplotlib inline\n",
    "import numpy as np\n",
    "import matplotlib.pyplot as plt\n",
    "from chainer import cuda, Variable, FunctionSet, optimizers\n",
    "import chainer.functions as F\n",
    "import sys\n",
    "import csv\n",
    "\n",
    "plt.style.use('ggplot')"
   ]
  },
  {
   "cell_type": "code",
   "execution_count": 13,
   "metadata": {
    "collapsed": false
   },
   "outputs": [],
   "source": [
    "# 確率的勾配降下法におけるミニバッチ数\n",
    "batchsize = 100\n",
    "\n",
    "# 学習の繰り返し回数\n",
    "n_epoch = 20\n",
    "\n",
    "# 中間層の数\n",
    "n_units = 4\n",
    "\n",
    "\n",
    "#=================================================\n",
    "# csvファイルからデータを取り出し、listに格納\n",
    "def set_data():\n",
    "\n",
    "        filename = \"../../../data/misyo/data\"\n",
    "        \n",
    "        f = open('%s.csv' % filename, 'rU')\n",
    "        data = csv.reader(f)\n",
    "\n",
    "        data_set = []\n",
    "        target_set = []\n",
    "        for line in data:\n",
    "                data_set.append(line[1:4])\n",
    "                target_set.append(line[4])\n",
    "        f.close()\n",
    "        np_dataSet = np.array(data_set, dtype=np.float32)\n",
    "        np_targetSet = np.array(target_set, dtype=np.int32)\n",
    "        return np_dataSet, np_targetSet\n",
    "\n",
    "#=================================================\n",
    "\n",
    "data, target = set_data()\n",
    "data /= 23.0\n",
    "\n",
    "# <!--- start_debug\n",
    "#print data.shape\n",
    "#print target.shape\n",
    "#       end_debug ----> \n",
    "\n",
    "\n",
    "# 学習用データをN個、検証用データを残りの個数と設定\n",
    "# Nの値は暫定的なもの\n",
    "N = 2300\n",
    "x_train, x_test = np.split( data, [N])  \n",
    "y_train, y_test = np.split( target, [N]) \n",
    "N_test = y_test.size\n",
    "#print data\n",
    "#print target\n",
    "\n"
   ]
  },
  {
   "cell_type": "code",
   "execution_count": 14,
   "metadata": {
    "collapsed": true
   },
   "outputs": [],
   "source": [
    "# 多層パーセプトロンモデルの設定\n",
    "# 入力 3次元、出力 2次元\n",
    "model = FunctionSet(l1=F.Linear(3, n_units),\n",
    "                    l2=F.Linear(n_units, n_units),\n",
    "                    l3=F.Linear(n_units, 2))\n",
    "\n",
    "# Neural net architecture\n",
    "# ニューラルネットの構造\n",
    "def forward(x_data, y_data, train=True ):\n",
    "        x, t = Variable(x_data), Variable(y_data)\n",
    "        h1 = F.dropout(F.relu(model.l1(x)), train=train)\n",
    "        h2 = F.dropout(F.relu(model.l2(h1)), train=train)\n",
    "        y = model.l3(h2)\n",
    "        # 0/1の2クラス分類なので誤差関数として、ソフトマックス関数\n",
    "        # を用いて、誤差を導出\n",
    "        return F.softmax_cross_entropy(y, t), F.accuracy(y, t)\n",
    "\n"
   ]
  },
  {
   "cell_type": "code",
   "execution_count": 15,
   "metadata": {
    "collapsed": true
   },
   "outputs": [],
   "source": [
    "# Setup optimizer\n",
    "optimizer = optimizers.Adam()\n",
    "optimizer.setup(model)\n",
    "\n",
    "train_loss = []\n",
    "train_acc= []\n",
    "test_loss = []\n",
    "test_acc = []\n",
    "\n",
    "l1_W = []\n",
    "l2_W = []\n",
    "l3_W = []\n",
    "\n"
   ]
  },
  {
   "cell_type": "code",
   "execution_count": 16,
   "metadata": {
    "collapsed": false
   },
   "outputs": [
    {
     "name": "stdout",
     "output_type": "stream",
     "text": [
      "epoch 1\n",
      "train mean loss=0.8588380995, accuracy=0.527391308028\n",
      "test  mean loss=0.812173015193, accuracy=0.463157892227\n",
      "epoch 2\n",
      "train mean loss=0.821370969648, accuracy=0.501739122297\n",
      "test  mean loss=0.766367347617, accuracy=0.463157892227\n",
      "epoch 3\n",
      "train mean loss=0.771591396435, accuracy=0.504782602839\n",
      "test  mean loss=0.739493746507, accuracy=0.463157892227\n",
      "epoch 4\n",
      "train mean loss=0.728187993817, accuracy=0.537826084572\n",
      "test  mean loss=0.724491884834, accuracy=0.463157892227\n",
      "epoch 5\n",
      "train mean loss=0.707055483175, accuracy=0.523478256619\n",
      "test  mean loss=0.716950265985, accuracy=0.547368400975\n",
      "epoch 6\n",
      "train mean loss=0.699433645476, accuracy=0.524782608385\n",
      "test  mean loss=0.712863708797, accuracy=0.842105275706\n",
      "epoch 7\n",
      "train mean loss=0.691512595052, accuracy=0.518695648598\n",
      "test  mean loss=0.710283706063, accuracy=0.631578972465\n",
      "epoch 8\n",
      "train mean loss=0.690606296062, accuracy=0.512173909208\n",
      "test  mean loss=0.710117064024, accuracy=0.58947368672\n",
      "epoch 9\n",
      "train mean loss=0.684483758781, accuracy=0.523478254028\n",
      "test  mean loss=0.711311917556, accuracy=0.58947368672\n",
      "epoch 10\n",
      "train mean loss=0.687558728716, accuracy=0.511739130901\n",
      "test  mean loss=0.713625707124, accuracy=0.58947368672\n",
      "epoch 11\n",
      "train mean loss=0.68093293387, accuracy=0.542608695186\n",
      "test  mean loss=0.71639418602, accuracy=0.58947368672\n",
      "epoch 12\n",
      "train mean loss=0.687638845133, accuracy=0.516956518526\n",
      "test  mean loss=0.719663406673, accuracy=0.58947368672\n",
      "epoch 13\n",
      "train mean loss=0.686272797377, accuracy=0.527826075969\n",
      "test  mean loss=0.721594534422, accuracy=0.58947368672\n",
      "epoch 14\n",
      "train mean loss=0.684682757958, accuracy=0.555217390475\n",
      "test  mean loss=0.722228163167, accuracy=0.58947368672\n",
      "epoch 15\n",
      "train mean loss=0.679004568121, accuracy=0.581304345442\n",
      "test  mean loss=0.722154065182, accuracy=0.58947368672\n",
      "epoch 16\n",
      "train mean loss=0.684925913811, accuracy=0.551739122557\n",
      "test  mean loss=0.722436402973, accuracy=0.58947368672\n",
      "epoch 17\n",
      "train mean loss=0.68198199635, accuracy=0.560434783282\n",
      "test  mean loss=0.722555612263, accuracy=0.58947368672\n",
      "epoch 18\n",
      "train mean loss=0.681445279847, accuracy=0.564782610406\n",
      "test  mean loss=0.722689377634, accuracy=0.58947368672\n",
      "epoch 19\n",
      "train mean loss=0.682854701643, accuracy=0.565652170907\n",
      "test  mean loss=0.722693832297, accuracy=0.58947368672\n",
      "epoch 20\n",
      "train mean loss=0.681406700093, accuracy=0.570434775041\n",
      "test  mean loss=0.722729532342, accuracy=0.58947368672\n"
     ]
    },
    {
     "data": {
      "text/plain": [
       "[]"
      ]
     },
     "execution_count": 16,
     "metadata": {},
     "output_type": "execute_result"
    },
    {
     "data": {
      "image/png": "[encoded data removed]",
      "text/plain": [
       "<matplotlib.figure.Figure at 0x10655f190>"
      ]
     },
     "metadata": {},
     "output_type": "display_data"
    }
   ],
   "source": [
    "# Learning loop\n",
    "for epoch in xrange(1, n_epoch+1):\n",
    "        print 'epoch', epoch\n",
    "\n",
    "        # training\n",
    "        # N個の順番をランダムに並び替える\n",
    "        perm = np.random.permutation(N)\n",
    "        sum_accuracy = 0\n",
    "        sum_loss = 0\n",
    "        # 0〜Nまでのデータをバッチサイズごとに使って学習\n",
    "        for i in xrange(0, N, batchsize):\n",
    "                x_batch = x_train[perm[i:i+batchsize]]\n",
    "                y_batch = y_train[perm[i:i+batchsize]]\n",
    "\n",
    "                # 勾配を初期化\n",
    "                optimizer.zero_grads()\n",
    "                # 順伝播させて誤差と精度を算出\n",
    "                loss, acc = forward(x_batch, y_batch)\n",
    "                # 誤差逆伝播で勾配を計算\n",
    "                loss.backward()\n",
    "                optimizer.update()\n",
    "                sum_loss += float(cuda.to_cpu(loss.data)) * batchsize\n",
    "                sum_accuracy += float(cuda.to_cpu(acc.data)) * batchsize\n",
    "\n",
    "        # 訓練データの誤差と、正解精度を表示\n",
    "        print 'train mean loss={}, accuracy={}'.format(sum_loss / N, sum_accuracy / N)\n",
    "\n",
    "        train_loss.append(sum_loss / N)\n",
    "        train_acc.append(sum_accuracy / N)\n",
    "\n",
    "\n",
    "        # evaluation\n",
    "        # テストデータで誤差と、正解精度を算出し汎化性能を確認\n",
    "        sum_accuracy = 0\n",
    "        sum_loss     = 0\n",
    "        for i in xrange(0, N_test, batchsize):\n",
    "                #x_batch = x_test[i:i+batchsize]\n",
    "                #y_batch = y_test[i:i+batchsize]\n",
    "                x_batch = x_test[0:batchsize]\n",
    "                y_batch = y_test[0:batchsize]\n",
    "\n",
    "                # 順伝播させて誤差と精度を算出\n",
    "                loss, acc = forward(x_batch, y_batch, train=False)\n",
    "\n",
    "                sum_loss     += float(cuda.to_cpu(loss.data)) * batchsize\n",
    "                sum_accuracy += float(cuda.to_cpu(acc.data)) * batchsize\n",
    "\n",
    "        # テストデータでの誤差と、正解精度を表示\n",
    "        print 'test  mean loss={}, accuracy={}'.format(sum_loss / N_test, sum_accuracy / N_test)\n",
    "        test_loss.append(sum_loss / N_test)\n",
    "        test_acc.append(sum_accuracy / N_test)\n",
    "\n",
    "\n",
    "        # 学習したパラメーターを保存\n",
    "        l1_W.append(model.l1.W)\n",
    "        l2_W.append(model.l2.W)\n",
    "        l3_W.append(model.l3.W)\n",
    "\n",
    "        # 精度と誤差をグラフ描画\n",
    "plt.figure(figsize=(8,6))\n",
    "plt.plot(range(len(train_acc)), train_acc)\n",
    "plt.plot(range(len(test_acc)), test_acc)\n",
    "plt.legend([\"train_acc\",\"test_acc\"],loc=4)\n",
    "plt.title(\"Accuracy of classification.\")\n",
    "plt.plot()"
   ]
  },
  {
   "cell_type": "code",
   "execution_count": null,
   "metadata": {
    "collapsed": true
   },
   "outputs": [],
   "source": []
  },
  {
   "cell_type": "code",
   "execution_count": null,
   "metadata": {
    "collapsed": true
   },
   "outputs": [],
   "source": []
  }
 ],
 "metadata": {
  "kernelspec": {
   "display_name": "Python 2",
   "language": "python",
   "name": "python2"
  },
  "language_info": {
   "codemirror_mode": {
    "name": "ipython",
    "version": 2
   },
   "file_extension": ".py",
   "mimetype": "text/x-python",
   "name": "python",
   "nbconvert_exporter": "python",
   "pygments_lexer": "ipython2",
   "version": "2.7.10"
  }
 },
 "nbformat": 4,
 "nbformat_minor": 0
}
