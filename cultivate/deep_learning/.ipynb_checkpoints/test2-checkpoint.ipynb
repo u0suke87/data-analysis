{
 "cells": [
  {
   "cell_type": "code",
   "execution_count": 71,
   "metadata": {
    "collapsed": true
   },
   "outputs": [],
   "source": [
    "%matplotlib inline\n",
    "import numpy as np\n",
    "import matplotlib.pyplot as plt\n",
    "from chainer import cuda, Variable, FunctionSet, optimizers\n",
    "import chainer.functions as F\n",
    "import sys\n",
    "import csv\n",
    "\n",
    "plt.style.use('ggplot')"
   ]
  },
  {
   "cell_type": "code",
   "execution_count": 72,
   "metadata": {
    "collapsed": false
   },
   "outputs": [],
   "source": [
    "# 確率的勾配降下法におけるミニバッチ数\n",
    "batchsize = 50\n",
    "\n",
    "# 学習の繰り返し回数\n",
    "n_epoch = 20\n",
    "\n",
    "# 中間層の数\n",
    "n_units = 2\n",
    "\n",
    "\n",
    "#=================================================\n",
    "# csvファイルからデータを取り出し、listに格納\n",
    "def set_data():\n",
    "\n",
    "        filename = \"data\"\n",
    "        \n",
    "        f = open('%s.csv' % filename, 'rU')\n",
    "        data = csv.reader(f)\n",
    "\n",
    "        data_set = []\n",
    "        target_set = []\n",
    "        for line in data:\n",
    "                data_set.append(line[1:4])\n",
    "                target_set.append(line[4])\n",
    "        f.close()\n",
    "        np_dataSet = np.array(data_set, dtype=np.float32)\n",
    "        np_targetSet = np.array(target_set, dtype=np.int32)\n",
    "        return np_dataSet, np_targetSet\n",
    "\n",
    "#=================================================\n",
    "\n",
    "data, target = set_data()\n",
    "data /= 23.0\n",
    "\n",
    "# <!--- start_debug\n",
    "#print data.shape\n",
    "#print target.shape\n",
    "#       end_debug ----> \n",
    "\n",
    "\n",
    "# 学習用データをN個、検証用データを残りの個数と設定\n",
    "# Nの値は暫定的なもの\n",
    "N = 1000\n",
    "x_train, x_test = np.split( data, [N])  \n",
    "y_train, y_test = np.split( target, [N]) \n",
    "N_test = y_test.size\n",
    "#print data\n",
    "#print target\n",
    "\n"
   ]
  },
  {
   "cell_type": "code",
   "execution_count": 73,
   "metadata": {
    "collapsed": true
   },
   "outputs": [],
   "source": [
    "# 多層パーセプトロンモデルの設定\n",
    "# 入力 3次元、出力 2次元\n",
    "model = FunctionSet(l1=F.Linear(3, n_units),\n",
    "                    l2=F.Linear(n_units, n_units),\n",
    "                    l3=F.Linear(n_units, 2))\n",
    "\n",
    "# Neural net architecture\n",
    "# ニューラルネットの構造\n",
    "def forward(x_data, y_data, train=True ):\n",
    "        x, t = Variable(x_data), Variable(y_data)\n",
    "        h1 = F.dropout(F.relu(model.l1(x)), ratio=.2, train=train)\n",
    "        h2 = F.dropout(F.relu(model.l2(h1)), ratio=.2, train=train)\n",
    "        y = model.l3(h2)\n",
    "        # 0/1の2クラス分類なので誤差関数として、ソフトマックス関数\n",
    "        # を用いて、誤差を導出\n",
    "        return F.softmax_cross_entropy(y, t), F.accuracy(y, t)\n",
    "\n"
   ]
  },
  {
   "cell_type": "code",
   "execution_count": 74,
   "metadata": {
    "collapsed": true
   },
   "outputs": [],
   "source": [
    "# Setup optimizer\n",
    "optimizer = optimizers.Adam()\n",
    "optimizer.setup(model)\n",
    "\n",
    "train_loss = []\n",
    "train_acc= []\n",
    "test_loss = []\n",
    "test_acc = []\n",
    "\n",
    "l1_W = []\n",
    "l2_W = []\n",
    "l3_W = []\n",
    "\n"
   ]
  },
  {
   "cell_type": "code",
   "execution_count": 75,
   "metadata": {
    "collapsed": false
   },
   "outputs": [
    {
     "name": "stdout",
     "output_type": "stream",
     "text": [
      "epoch 1\n",
      "train mean loss=1.18979855776, accuracy=0.508000001311\n",
      "test  mean loss=1.11401851945, accuracy=0.468456379619\n",
      "epoch 2\n",
      "train mean loss=1.11784547269, accuracy=0.488000001013\n",
      "test  mean loss=1.02530613042, accuracy=0.468456379619\n",
      "epoch 3\n",
      "train mean loss=0.980913504958, accuracy=0.531999996305\n",
      "test  mean loss=0.950015763308, accuracy=0.468456379619\n",
      "epoch 4\n",
      "train mean loss=0.952733200788, accuracy=0.506999999285\n",
      "test  mean loss=0.891348545583, accuracy=0.468456379619\n",
      "epoch 5\n",
      "train mean loss=0.87981480062, accuracy=0.515000000596\n",
      "test  mean loss=0.840850412446, accuracy=0.468456379619\n",
      "epoch 6\n",
      "train mean loss=0.859202420712, accuracy=0.495999999344\n",
      "test  mean loss=0.800885330111, accuracy=0.468456379619\n",
      "epoch 7\n",
      "train mean loss=0.809986177087, accuracy=0.503999997675\n",
      "test  mean loss=0.768352390936, accuracy=0.468456379619\n",
      "epoch 8\n",
      "train mean loss=0.779016244411, accuracy=0.51099999994\n",
      "test  mean loss=0.74252281613, accuracy=0.468456379619\n",
      "epoch 9\n",
      "train mean loss=0.759084481001, accuracy=0.487999998033\n",
      "test  mean loss=0.722411480926, accuracy=0.468456379619\n",
      "epoch 10\n",
      "train mean loss=0.740474906564, accuracy=0.496000000834\n",
      "test  mean loss=0.706159506468, accuracy=0.468456379619\n",
      "epoch 11\n",
      "train mean loss=0.72118421793, accuracy=0.501999999583\n",
      "test  mean loss=0.694170708224, accuracy=0.469798660218\n",
      "epoch 12\n",
      "train mean loss=0.733521094918, accuracy=0.463000003994\n",
      "test  mean loss=0.685414043849, accuracy=0.472483222917\n",
      "epoch 13\n",
      "train mean loss=0.692022964358, accuracy=0.515999993682\n",
      "test  mean loss=0.678476447227, accuracy=0.477181211014\n",
      "epoch 14\n",
      "train mean loss=0.696576914191, accuracy=0.490000002086\n",
      "test  mean loss=0.672316069171, accuracy=0.487248324508\n",
      "epoch 15\n",
      "train mean loss=0.681471371651, accuracy=0.512999998033\n",
      "test  mean loss=0.667165033769, accuracy=0.512919466968\n",
      "epoch 16\n",
      "train mean loss=0.675761803985, accuracy=0.518000000715\n",
      "test  mean loss=0.663294292136, accuracy=0.556711405516\n",
      "epoch 17\n",
      "train mean loss=0.672626802325, accuracy=0.522000001371\n",
      "test  mean loss=0.660010840269, accuracy=0.600503356065\n",
      "epoch 18\n",
      "train mean loss=0.6741106987, accuracy=0.519999998808\n",
      "test  mean loss=0.65728597793, accuracy=0.657885911681\n",
      "epoch 19\n",
      "train mean loss=0.660821411014, accuracy=0.544999998808\n",
      "test  mean loss=0.654917601371, accuracy=0.705369126877\n",
      "epoch 20\n",
      "train mean loss=0.684184992313, accuracy=0.497999995947\n",
      "test  mean loss=0.654850936176, accuracy=0.7914429483\n"
     ]
    },
    {
     "data": {
      "text/plain": [
       "[]"
      ]
     },
     "execution_count": 75,
     "metadata": {},
     "output_type": "execute_result"
    },
    {
     "data": {
      "image/png": "[encoded data removed]",
      "text/plain": [
       "<matplotlib.figure.Figure at 0x106460d50>"
      ]
     },
     "metadata": {},
     "output_type": "display_data"
    }
   ],
   "source": [
    "# Learning loop\n",
    "for epoch in xrange(1, n_epoch+1):\n",
    "        print 'epoch', epoch\n",
    "\n",
    "        # training\n",
    "        # N個の順番をランダムに並び替える\n",
    "        perm = np.random.permutation(N)\n",
    "        sum_accuracy = 0\n",
    "        sum_loss = 0\n",
    "        # 0〜Nまでのデータをバッチサイズごとに使って学習\n",
    "        for i in xrange(0, N, batchsize):\n",
    "                x_batch = x_train[perm[i:i+batchsize]]\n",
    "                y_batch = y_train[perm[i:i+batchsize]]\n",
    "\n",
    "                # 勾配を初期化\n",
    "                optimizer.zero_grads()\n",
    "                # 順伝播させて誤差と精度を算出\n",
    "                loss, acc = forward(x_batch, y_batch)\n",
    "                # 誤差逆伝播で勾配を計算\n",
    "                loss.backward()\n",
    "                optimizer.update()\n",
    "                sum_loss += float(cuda.to_cpu(loss.data)) * batchsize\n",
    "                sum_accuracy += float(cuda.to_cpu(acc.data)) * batchsize\n",
    "\n",
    "        # 訓練データの誤差と、正解精度を表示\n",
    "        print 'train mean loss={}, accuracy={}'.format(sum_loss / N, sum_accuracy / N)\n",
    "\n",
    "        train_loss.append(sum_loss / N)\n",
    "        train_acc.append(sum_accuracy / N)\n",
    "\n",
    "\n",
    "        # evaluation\n",
    "        # テストデータで誤差と、正解精度を算出し汎化性能を確認\n",
    "        sum_accuracy = 0\n",
    "        sum_loss     = 0\n",
    "        for i in xrange(0, N_test, batchsize):\n",
    "                #x_batch = x_test[i:i+batchsize]\n",
    "                #y_batch = y_test[i:i+batchsize]\n",
    "                x_batch = x_test[0:batchsize]\n",
    "                y_batch = y_test[0:batchsize]\n",
    "\n",
    "                # 順伝播させて誤差と精度を算出\n",
    "                loss, acc = forward(x_batch, y_batch, train=False)\n",
    "\n",
    "                sum_loss     += float(cuda.to_cpu(loss.data)) * batchsize\n",
    "                sum_accuracy += float(cuda.to_cpu(acc.data)) * batchsize\n",
    "\n",
    "        # テストデータでの誤差と、正解精度を表示\n",
    "        print 'test  mean loss={}, accuracy={}'.format(sum_loss / N_test, sum_accuracy / N_test)\n",
    "        test_loss.append(sum_loss / N_test)\n",
    "        test_acc.append(sum_accuracy / N_test)\n",
    "\n",
    "\n",
    "        # 学習したパラメーターを保存\n",
    "        l1_W.append(model.l1.W)\n",
    "        l2_W.append(model.l2.W)\n",
    "        l3_W.append(model.l3.W)\n",
    "\n",
    "        # 精度と誤差をグラフ描画\n",
    "plt.figure(figsize=(8,6))\n",
    "plt.plot(range(len(train_acc)), train_acc)\n",
    "plt.plot(range(len(test_acc)), test_acc)\n",
    "plt.legend([\"train_acc\",\"test_acc\"],loc=4)\n",
    "plt.title(\"Accuracy of classification.\")\n",
    "plt.plot()"
   ]
  },
  {
   "cell_type": "code",
   "execution_count": null,
   "metadata": {
    "collapsed": true
   },
   "outputs": [],
   "source": []
  },
  {
   "cell_type": "code",
   "execution_count": null,
   "metadata": {
    "collapsed": true
   },
   "outputs": [],
   "source": []
  }
 ],
 "metadata": {
  "kernelspec": {
   "display_name": "Python 2",
   "language": "python",
   "name": "python2"
  },
  "language_info": {
   "codemirror_mode": {
    "name": "ipython",
    "version": 2
   },
   "file_extension": ".py",
   "mimetype": "text/x-python",
   "name": "python",
   "nbconvert_exporter": "python",
   "pygments_lexer": "ipython2",
   "version": "2.7.10"
  }
 },
 "nbformat": 4,
 "nbformat_minor": 0
}
